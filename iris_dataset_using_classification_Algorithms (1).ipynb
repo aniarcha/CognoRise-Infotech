{
  "nbformat": 4,
  "nbformat_minor": 0,
  "metadata": {
    "colab": {
      "provenance": []
    },
    "kernelspec": {
      "name": "python3",
      "display_name": "Python 3"
    },
    "language_info": {
      "name": "python"
    }
  },
  "cells": [
    {
      "cell_type": "markdown",
      "source": [
        "## **IRIS FLOWER CLASSIFICATION MODEL**"
      ],
      "metadata": {
        "id": "gcwb8F_HIWwG"
      }
    },
    {
      "cell_type": "markdown",
      "source": [
        "The Iris flower dataset encompasses three distinct species: setosa,\n",
        "versicolor, and virginica.\n",
        "![iris flower.jpeg](data:image/jpeg;base64,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)\n",
        "\n",
        "• The goal is to train a machine learning model capable of learning from these measurements and proficiently categorizing Iris flowers into their corresponding species.\n",
        "\n",
        "\n"
      ],
      "metadata": {
        "id": "TJTuEWKmHjYx"
      }
    },
    {
      "cell_type": "markdown",
      "source": [
        "**Importing the Libraries and Dataset**"
      ],
      "metadata": {
        "id": "EZJP-b9E2Kla"
      }
    },
    {
      "cell_type": "code",
      "execution_count": null,
      "metadata": {
        "colab": {
          "base_uri": "https://localhost:8080/",
          "height": 423
        },
        "id": "dPICTNHbL-pW",
        "outputId": "d3e8198d-33fa-4dce-e35d-b1eebd7db7cc"
      },
      "outputs": [
        {
          "output_type": "execute_result",
          "data": {
            "text/plain": [
              "     sepal_length  sepal_width  petal_length  petal_width         species\n",
              "0             5.1          3.5           1.4          0.2     Iris-setosa\n",
              "1             4.9          3.0           1.4          0.2     Iris-setosa\n",
              "2             4.7          3.2           1.3          0.2     Iris-setosa\n",
              "3             4.6          3.1           1.5          0.2     Iris-setosa\n",
              "4             5.0          3.6           1.4          0.2     Iris-setosa\n",
              "..            ...          ...           ...          ...             ...\n",
              "145           6.7          3.0           5.2          2.3  Iris-virginica\n",
              "146           6.3          2.5           5.0          1.9  Iris-virginica\n",
              "147           6.5          3.0           5.2          2.0  Iris-virginica\n",
              "148           6.2          3.4           5.4          2.3  Iris-virginica\n",
              "149           5.9          3.0           5.1          1.8  Iris-virginica\n",
              "\n",
              "[150 rows x 5 columns]"
            ],
            "text/html": [
              "\n",
              "  <div id=\"df-12b124d9-8838-451c-847e-36521b95bd1f\" class=\"colab-df-container\">\n",
              "    <div>\n",
              "<style scoped>\n",
              "    .dataframe tbody tr th:only-of-type {\n",
              "        vertical-align: middle;\n",
              "    }\n",
              "\n",
              "    .dataframe tbody tr th {\n",
              "        vertical-align: top;\n",
              "    }\n",
              "\n",
              "    .dataframe thead th {\n",
              "        text-align: right;\n",
              "    }\n",
              "</style>\n",
              "<table border=\"1\" class=\"dataframe\">\n",
              "  <thead>\n",
              "    <tr style=\"text-align: right;\">\n",
              "      <th></th>\n",
              "      <th>sepal_length</th>\n",
              "      <th>sepal_width</th>\n",
              "      <th>petal_length</th>\n",
              "      <th>petal_width</th>\n",
              "      <th>species</th>\n",
              "    </tr>\n",
              "  </thead>\n",
              "  <tbody>\n",
              "    <tr>\n",
              "      <th>0</th>\n",
              "      <td>5.1</td>\n",
              "      <td>3.5</td>\n",
              "      <td>1.4</td>\n",
              "      <td>0.2</td>\n",
              "      <td>Iris-setosa</td>\n",
              "    </tr>\n",
              "    <tr>\n",
              "      <th>1</th>\n",
              "      <td>4.9</td>\n",
              "      <td>3.0</td>\n",
              "      <td>1.4</td>\n",
              "      <td>0.2</td>\n",
              "      <td>Iris-setosa</td>\n",
              "    </tr>\n",
              "    <tr>\n",
              "      <th>2</th>\n",
              "      <td>4.7</td>\n",
              "      <td>3.2</td>\n",
              "      <td>1.3</td>\n",
              "      <td>0.2</td>\n",
              "      <td>Iris-setosa</td>\n",
              "    </tr>\n",
              "    <tr>\n",
              "      <th>3</th>\n",
              "      <td>4.6</td>\n",
              "      <td>3.1</td>\n",
              "      <td>1.5</td>\n",
              "      <td>0.2</td>\n",
              "      <td>Iris-setosa</td>\n",
              "    </tr>\n",
              "    <tr>\n",
              "      <th>4</th>\n",
              "      <td>5.0</td>\n",
              "      <td>3.6</td>\n",
              "      <td>1.4</td>\n",
              "      <td>0.2</td>\n",
              "      <td>Iris-setosa</td>\n",
              "    </tr>\n",
              "    <tr>\n",
              "      <th>...</th>\n",
              "      <td>...</td>\n",
              "      <td>...</td>\n",
              "      <td>...</td>\n",
              "      <td>...</td>\n",
              "      <td>...</td>\n",
              "    </tr>\n",
              "    <tr>\n",
              "      <th>145</th>\n",
              "      <td>6.7</td>\n",
              "      <td>3.0</td>\n",
              "      <td>5.2</td>\n",
              "      <td>2.3</td>\n",
              "      <td>Iris-virginica</td>\n",
              "    </tr>\n",
              "    <tr>\n",
              "      <th>146</th>\n",
              "      <td>6.3</td>\n",
              "      <td>2.5</td>\n",
              "      <td>5.0</td>\n",
              "      <td>1.9</td>\n",
              "      <td>Iris-virginica</td>\n",
              "    </tr>\n",
              "    <tr>\n",
              "      <th>147</th>\n",
              "      <td>6.5</td>\n",
              "      <td>3.0</td>\n",
              "      <td>5.2</td>\n",
              "      <td>2.0</td>\n",
              "      <td>Iris-virginica</td>\n",
              "    </tr>\n",
              "    <tr>\n",
              "      <th>148</th>\n",
              "      <td>6.2</td>\n",
              "      <td>3.4</td>\n",
              "      <td>5.4</td>\n",
              "      <td>2.3</td>\n",
              "      <td>Iris-virginica</td>\n",
              "    </tr>\n",
              "    <tr>\n",
              "      <th>149</th>\n",
              "      <td>5.9</td>\n",
              "      <td>3.0</td>\n",
              "      <td>5.1</td>\n",
              "      <td>1.8</td>\n",
              "      <td>Iris-virginica</td>\n",
              "    </tr>\n",
              "  </tbody>\n",
              "</table>\n",
              "<p>150 rows × 5 columns</p>\n",
              "</div>\n",
              "    <div class=\"colab-df-buttons\">\n",
              "\n",
              "  <div class=\"colab-df-container\">\n",
              "    <button class=\"colab-df-convert\" onclick=\"convertToInteractive('df-12b124d9-8838-451c-847e-36521b95bd1f')\"\n",
              "            title=\"Convert this dataframe to an interactive table.\"\n",
              "            style=\"display:none;\">\n",
              "\n",
              "  <svg xmlns=\"http://www.w3.org/2000/svg\" height=\"24px\" viewBox=\"0 -960 960 960\">\n",
              "    <path d=\"M120-120v-720h720v720H120Zm60-500h600v-160H180v160Zm220 220h160v-160H400v160Zm0 220h160v-160H400v160ZM180-400h160v-160H180v160Zm440 0h160v-160H620v160ZM180-180h160v-160H180v160Zm440 0h160v-160H620v160Z\"/>\n",
              "  </svg>\n",
              "    </button>\n",
              "\n",
              "  <style>\n",
              "    .colab-df-container {\n",
              "      display:flex;\n",
              "      gap: 12px;\n",
              "    }\n",
              "\n",
              "    .colab-df-convert {\n",
              "      background-color: #E8F0FE;\n",
              "      border: none;\n",
              "      border-radius: 50%;\n",
              "      cursor: pointer;\n",
              "      display: none;\n",
              "      fill: #1967D2;\n",
              "      height: 32px;\n",
              "      padding: 0 0 0 0;\n",
              "      width: 32px;\n",
              "    }\n",
              "\n",
              "    .colab-df-convert:hover {\n",
              "      background-color: #E2EBFA;\n",
              "      box-shadow: 0px 1px 2px rgba(60, 64, 67, 0.3), 0px 1px 3px 1px rgba(60, 64, 67, 0.15);\n",
              "      fill: #174EA6;\n",
              "    }\n",
              "\n",
              "    .colab-df-buttons div {\n",
              "      margin-bottom: 4px;\n",
              "    }\n",
              "\n",
              "    [theme=dark] .colab-df-convert {\n",
              "      background-color: #3B4455;\n",
              "      fill: #D2E3FC;\n",
              "    }\n",
              "\n",
              "    [theme=dark] .colab-df-convert:hover {\n",
              "      background-color: #434B5C;\n",
              "      box-shadow: 0px 1px 3px 1px rgba(0, 0, 0, 0.15);\n",
              "      filter: drop-shadow(0px 1px 2px rgba(0, 0, 0, 0.3));\n",
              "      fill: #FFFFFF;\n",
              "    }\n",
              "  </style>\n",
              "\n",
              "    <script>\n",
              "      const buttonEl =\n",
              "        document.querySelector('#df-12b124d9-8838-451c-847e-36521b95bd1f button.colab-df-convert');\n",
              "      buttonEl.style.display =\n",
              "        google.colab.kernel.accessAllowed ? 'block' : 'none';\n",
              "\n",
              "      async function convertToInteractive(key) {\n",
              "        const element = document.querySelector('#df-12b124d9-8838-451c-847e-36521b95bd1f');\n",
              "        const dataTable =\n",
              "          await google.colab.kernel.invokeFunction('convertToInteractive',\n",
              "                                                    [key], {});\n",
              "        if (!dataTable) return;\n",
              "\n",
              "        const docLinkHtml = 'Like what you see? Visit the ' +\n",
              "          '<a target=\"_blank\" href=https://colab.research.google.com/notebooks/data_table.ipynb>data table notebook</a>'\n",
              "          + ' to learn more about interactive tables.';\n",
              "        element.innerHTML = '';\n",
              "        dataTable['output_type'] = 'display_data';\n",
              "        await google.colab.output.renderOutput(dataTable, element);\n",
              "        const docLink = document.createElement('div');\n",
              "        docLink.innerHTML = docLinkHtml;\n",
              "        element.appendChild(docLink);\n",
              "      }\n",
              "    </script>\n",
              "  </div>\n",
              "\n",
              "\n",
              "<div id=\"df-5896f5b8-3cfe-4bcf-9a16-aa3914abb98c\">\n",
              "  <button class=\"colab-df-quickchart\" onclick=\"quickchart('df-5896f5b8-3cfe-4bcf-9a16-aa3914abb98c')\"\n",
              "            title=\"Suggest charts\"\n",
              "            style=\"display:none;\">\n",
              "\n",
              "<svg xmlns=\"http://www.w3.org/2000/svg\" height=\"24px\"viewBox=\"0 0 24 24\"\n",
              "     width=\"24px\">\n",
              "    <g>\n",
              "        <path d=\"M19 3H5c-1.1 0-2 .9-2 2v14c0 1.1.9 2 2 2h14c1.1 0 2-.9 2-2V5c0-1.1-.9-2-2-2zM9 17H7v-7h2v7zm4 0h-2V7h2v10zm4 0h-2v-4h2v4z\"/>\n",
              "    </g>\n",
              "</svg>\n",
              "  </button>\n",
              "\n",
              "<style>\n",
              "  .colab-df-quickchart {\n",
              "      --bg-color: #E8F0FE;\n",
              "      --fill-color: #1967D2;\n",
              "      --hover-bg-color: #E2EBFA;\n",
              "      --hover-fill-color: #174EA6;\n",
              "      --disabled-fill-color: #AAA;\n",
              "      --disabled-bg-color: #DDD;\n",
              "  }\n",
              "\n",
              "  [theme=dark] .colab-df-quickchart {\n",
              "      --bg-color: #3B4455;\n",
              "      --fill-color: #D2E3FC;\n",
              "      --hover-bg-color: #434B5C;\n",
              "      --hover-fill-color: #FFFFFF;\n",
              "      --disabled-bg-color: #3B4455;\n",
              "      --disabled-fill-color: #666;\n",
              "  }\n",
              "\n",
              "  .colab-df-quickchart {\n",
              "    background-color: var(--bg-color);\n",
              "    border: none;\n",
              "    border-radius: 50%;\n",
              "    cursor: pointer;\n",
              "    display: none;\n",
              "    fill: var(--fill-color);\n",
              "    height: 32px;\n",
              "    padding: 0;\n",
              "    width: 32px;\n",
              "  }\n",
              "\n",
              "  .colab-df-quickchart:hover {\n",
              "    background-color: var(--hover-bg-color);\n",
              "    box-shadow: 0 1px 2px rgba(60, 64, 67, 0.3), 0 1px 3px 1px rgba(60, 64, 67, 0.15);\n",
              "    fill: var(--button-hover-fill-color);\n",
              "  }\n",
              "\n",
              "  .colab-df-quickchart-complete:disabled,\n",
              "  .colab-df-quickchart-complete:disabled:hover {\n",
              "    background-color: var(--disabled-bg-color);\n",
              "    fill: var(--disabled-fill-color);\n",
              "    box-shadow: none;\n",
              "  }\n",
              "\n",
              "  .colab-df-spinner {\n",
              "    border: 2px solid var(--fill-color);\n",
              "    border-color: transparent;\n",
              "    border-bottom-color: var(--fill-color);\n",
              "    animation:\n",
              "      spin 1s steps(1) infinite;\n",
              "  }\n",
              "\n",
              "  @keyframes spin {\n",
              "    0% {\n",
              "      border-color: transparent;\n",
              "      border-bottom-color: var(--fill-color);\n",
              "      border-left-color: var(--fill-color);\n",
              "    }\n",
              "    20% {\n",
              "      border-color: transparent;\n",
              "      border-left-color: var(--fill-color);\n",
              "      border-top-color: var(--fill-color);\n",
              "    }\n",
              "    30% {\n",
              "      border-color: transparent;\n",
              "      border-left-color: var(--fill-color);\n",
              "      border-top-color: var(--fill-color);\n",
              "      border-right-color: var(--fill-color);\n",
              "    }\n",
              "    40% {\n",
              "      border-color: transparent;\n",
              "      border-right-color: var(--fill-color);\n",
              "      border-top-color: var(--fill-color);\n",
              "    }\n",
              "    60% {\n",
              "      border-color: transparent;\n",
              "      border-right-color: var(--fill-color);\n",
              "    }\n",
              "    80% {\n",
              "      border-color: transparent;\n",
              "      border-right-color: var(--fill-color);\n",
              "      border-bottom-color: var(--fill-color);\n",
              "    }\n",
              "    90% {\n",
              "      border-color: transparent;\n",
              "      border-bottom-color: var(--fill-color);\n",
              "    }\n",
              "  }\n",
              "</style>\n",
              "\n",
              "  <script>\n",
              "    async function quickchart(key) {\n",
              "      const quickchartButtonEl =\n",
              "        document.querySelector('#' + key + ' button');\n",
              "      quickchartButtonEl.disabled = true;  // To prevent multiple clicks.\n",
              "      quickchartButtonEl.classList.add('colab-df-spinner');\n",
              "      try {\n",
              "        const charts = await google.colab.kernel.invokeFunction(\n",
              "            'suggestCharts', [key], {});\n",
              "      } catch (error) {\n",
              "        console.error('Error during call to suggestCharts:', error);\n",
              "      }\n",
              "      quickchartButtonEl.classList.remove('colab-df-spinner');\n",
              "      quickchartButtonEl.classList.add('colab-df-quickchart-complete');\n",
              "    }\n",
              "    (() => {\n",
              "      let quickchartButtonEl =\n",
              "        document.querySelector('#df-5896f5b8-3cfe-4bcf-9a16-aa3914abb98c button');\n",
              "      quickchartButtonEl.style.display =\n",
              "        google.colab.kernel.accessAllowed ? 'block' : 'none';\n",
              "    })();\n",
              "  </script>\n",
              "</div>\n",
              "    </div>\n",
              "  </div>\n"
            ]
          },
          "metadata": {},
          "execution_count": 1
        }
      ],
      "source": [
        "import numpy as np\n",
        "import pandas as pd\n",
        "import seaborn as sns\n",
        "\n",
        "df=pd.read_csv('/content/IRIS.csv')\n",
        "df"
      ]
    },
    {
      "cell_type": "code",
      "source": [
        "df.head()"
      ],
      "metadata": {
        "colab": {
          "base_uri": "https://localhost:8080/",
          "height": 206
        },
        "id": "N3Am3qOHMhWY",
        "outputId": "51dd3d5f-ad75-4e45-9fc6-29f012cda958"
      },
      "execution_count": null,
      "outputs": [
        {
          "output_type": "execute_result",
          "data": {
            "text/plain": [
              "   sepal_length  sepal_width  petal_length  petal_width      species\n",
              "0           5.1          3.5           1.4          0.2  Iris-setosa\n",
              "1           4.9          3.0           1.4          0.2  Iris-setosa\n",
              "2           4.7          3.2           1.3          0.2  Iris-setosa\n",
              "3           4.6          3.1           1.5          0.2  Iris-setosa\n",
              "4           5.0          3.6           1.4          0.2  Iris-setosa"
            ],
            "text/html": [
              "\n",
              "  <div id=\"df-c6679e4f-5898-4615-9d82-13ff6938ba1e\" class=\"colab-df-container\">\n",
              "    <div>\n",
              "<style scoped>\n",
              "    .dataframe tbody tr th:only-of-type {\n",
              "        vertical-align: middle;\n",
              "    }\n",
              "\n",
              "    .dataframe tbody tr th {\n",
              "        vertical-align: top;\n",
              "    }\n",
              "\n",
              "    .dataframe thead th {\n",
              "        text-align: right;\n",
              "    }\n",
              "</style>\n",
              "<table border=\"1\" class=\"dataframe\">\n",
              "  <thead>\n",
              "    <tr style=\"text-align: right;\">\n",
              "      <th></th>\n",
              "      <th>sepal_length</th>\n",
              "      <th>sepal_width</th>\n",
              "      <th>petal_length</th>\n",
              "      <th>petal_width</th>\n",
              "      <th>species</th>\n",
              "    </tr>\n",
              "  </thead>\n",
              "  <tbody>\n",
              "    <tr>\n",
              "      <th>0</th>\n",
              "      <td>5.1</td>\n",
              "      <td>3.5</td>\n",
              "      <td>1.4</td>\n",
              "      <td>0.2</td>\n",
              "      <td>Iris-setosa</td>\n",
              "    </tr>\n",
              "    <tr>\n",
              "      <th>1</th>\n",
              "      <td>4.9</td>\n",
              "      <td>3.0</td>\n",
              "      <td>1.4</td>\n",
              "      <td>0.2</td>\n",
              "      <td>Iris-setosa</td>\n",
              "    </tr>\n",
              "    <tr>\n",
              "      <th>2</th>\n",
              "      <td>4.7</td>\n",
              "      <td>3.2</td>\n",
              "      <td>1.3</td>\n",
              "      <td>0.2</td>\n",
              "      <td>Iris-setosa</td>\n",
              "    </tr>\n",
              "    <tr>\n",
              "      <th>3</th>\n",
              "      <td>4.6</td>\n",
              "      <td>3.1</td>\n",
              "      <td>1.5</td>\n",
              "      <td>0.2</td>\n",
              "      <td>Iris-setosa</td>\n",
              "    </tr>\n",
              "    <tr>\n",
              "      <th>4</th>\n",
              "      <td>5.0</td>\n",
              "      <td>3.6</td>\n",
              "      <td>1.4</td>\n",
              "      <td>0.2</td>\n",
              "      <td>Iris-setosa</td>\n",
              "    </tr>\n",
              "  </tbody>\n",
              "</table>\n",
              "</div>\n",
              "    <div class=\"colab-df-buttons\">\n",
              "\n",
              "  <div class=\"colab-df-container\">\n",
              "    <button class=\"colab-df-convert\" onclick=\"convertToInteractive('df-c6679e4f-5898-4615-9d82-13ff6938ba1e')\"\n",
              "            title=\"Convert this dataframe to an interactive table.\"\n",
              "            style=\"display:none;\">\n",
              "\n",
              "  <svg xmlns=\"http://www.w3.org/2000/svg\" height=\"24px\" viewBox=\"0 -960 960 960\">\n",
              "    <path d=\"M120-120v-720h720v720H120Zm60-500h600v-160H180v160Zm220 220h160v-160H400v160Zm0 220h160v-160H400v160ZM180-400h160v-160H180v160Zm440 0h160v-160H620v160ZM180-180h160v-160H180v160Zm440 0h160v-160H620v160Z\"/>\n",
              "  </svg>\n",
              "    </button>\n",
              "\n",
              "  <style>\n",
              "    .colab-df-container {\n",
              "      display:flex;\n",
              "      gap: 12px;\n",
              "    }\n",
              "\n",
              "    .colab-df-convert {\n",
              "      background-color: #E8F0FE;\n",
              "      border: none;\n",
              "      border-radius: 50%;\n",
              "      cursor: pointer;\n",
              "      display: none;\n",
              "      fill: #1967D2;\n",
              "      height: 32px;\n",
              "      padding: 0 0 0 0;\n",
              "      width: 32px;\n",
              "    }\n",
              "\n",
              "    .colab-df-convert:hover {\n",
              "      background-color: #E2EBFA;\n",
              "      box-shadow: 0px 1px 2px rgba(60, 64, 67, 0.3), 0px 1px 3px 1px rgba(60, 64, 67, 0.15);\n",
              "      fill: #174EA6;\n",
              "    }\n",
              "\n",
              "    .colab-df-buttons div {\n",
              "      margin-bottom: 4px;\n",
              "    }\n",
              "\n",
              "    [theme=dark] .colab-df-convert {\n",
              "      background-color: #3B4455;\n",
              "      fill: #D2E3FC;\n",
              "    }\n",
              "\n",
              "    [theme=dark] .colab-df-convert:hover {\n",
              "      background-color: #434B5C;\n",
              "      box-shadow: 0px 1px 3px 1px rgba(0, 0, 0, 0.15);\n",
              "      filter: drop-shadow(0px 1px 2px rgba(0, 0, 0, 0.3));\n",
              "      fill: #FFFFFF;\n",
              "    }\n",
              "  </style>\n",
              "\n",
              "    <script>\n",
              "      const buttonEl =\n",
              "        document.querySelector('#df-c6679e4f-5898-4615-9d82-13ff6938ba1e button.colab-df-convert');\n",
              "      buttonEl.style.display =\n",
              "        google.colab.kernel.accessAllowed ? 'block' : 'none';\n",
              "\n",
              "      async function convertToInteractive(key) {\n",
              "        const element = document.querySelector('#df-c6679e4f-5898-4615-9d82-13ff6938ba1e');\n",
              "        const dataTable =\n",
              "          await google.colab.kernel.invokeFunction('convertToInteractive',\n",
              "                                                    [key], {});\n",
              "        if (!dataTable) return;\n",
              "\n",
              "        const docLinkHtml = 'Like what you see? Visit the ' +\n",
              "          '<a target=\"_blank\" href=https://colab.research.google.com/notebooks/data_table.ipynb>data table notebook</a>'\n",
              "          + ' to learn more about interactive tables.';\n",
              "        element.innerHTML = '';\n",
              "        dataTable['output_type'] = 'display_data';\n",
              "        await google.colab.output.renderOutput(dataTable, element);\n",
              "        const docLink = document.createElement('div');\n",
              "        docLink.innerHTML = docLinkHtml;\n",
              "        element.appendChild(docLink);\n",
              "      }\n",
              "    </script>\n",
              "  </div>\n",
              "\n",
              "\n",
              "<div id=\"df-bfa10769-314c-4645-bec4-dc7fdad6335e\">\n",
              "  <button class=\"colab-df-quickchart\" onclick=\"quickchart('df-bfa10769-314c-4645-bec4-dc7fdad6335e')\"\n",
              "            title=\"Suggest charts\"\n",
              "            style=\"display:none;\">\n",
              "\n",
              "<svg xmlns=\"http://www.w3.org/2000/svg\" height=\"24px\"viewBox=\"0 0 24 24\"\n",
              "     width=\"24px\">\n",
              "    <g>\n",
              "        <path d=\"M19 3H5c-1.1 0-2 .9-2 2v14c0 1.1.9 2 2 2h14c1.1 0 2-.9 2-2V5c0-1.1-.9-2-2-2zM9 17H7v-7h2v7zm4 0h-2V7h2v10zm4 0h-2v-4h2v4z\"/>\n",
              "    </g>\n",
              "</svg>\n",
              "  </button>\n",
              "\n",
              "<style>\n",
              "  .colab-df-quickchart {\n",
              "      --bg-color: #E8F0FE;\n",
              "      --fill-color: #1967D2;\n",
              "      --hover-bg-color: #E2EBFA;\n",
              "      --hover-fill-color: #174EA6;\n",
              "      --disabled-fill-color: #AAA;\n",
              "      --disabled-bg-color: #DDD;\n",
              "  }\n",
              "\n",
              "  [theme=dark] .colab-df-quickchart {\n",
              "      --bg-color: #3B4455;\n",
              "      --fill-color: #D2E3FC;\n",
              "      --hover-bg-color: #434B5C;\n",
              "      --hover-fill-color: #FFFFFF;\n",
              "      --disabled-bg-color: #3B4455;\n",
              "      --disabled-fill-color: #666;\n",
              "  }\n",
              "\n",
              "  .colab-df-quickchart {\n",
              "    background-color: var(--bg-color);\n",
              "    border: none;\n",
              "    border-radius: 50%;\n",
              "    cursor: pointer;\n",
              "    display: none;\n",
              "    fill: var(--fill-color);\n",
              "    height: 32px;\n",
              "    padding: 0;\n",
              "    width: 32px;\n",
              "  }\n",
              "\n",
              "  .colab-df-quickchart:hover {\n",
              "    background-color: var(--hover-bg-color);\n",
              "    box-shadow: 0 1px 2px rgba(60, 64, 67, 0.3), 0 1px 3px 1px rgba(60, 64, 67, 0.15);\n",
              "    fill: var(--button-hover-fill-color);\n",
              "  }\n",
              "\n",
              "  .colab-df-quickchart-complete:disabled,\n",
              "  .colab-df-quickchart-complete:disabled:hover {\n",
              "    background-color: var(--disabled-bg-color);\n",
              "    fill: var(--disabled-fill-color);\n",
              "    box-shadow: none;\n",
              "  }\n",
              "\n",
              "  .colab-df-spinner {\n",
              "    border: 2px solid var(--fill-color);\n",
              "    border-color: transparent;\n",
              "    border-bottom-color: var(--fill-color);\n",
              "    animation:\n",
              "      spin 1s steps(1) infinite;\n",
              "  }\n",
              "\n",
              "  @keyframes spin {\n",
              "    0% {\n",
              "      border-color: transparent;\n",
              "      border-bottom-color: var(--fill-color);\n",
              "      border-left-color: var(--fill-color);\n",
              "    }\n",
              "    20% {\n",
              "      border-color: transparent;\n",
              "      border-left-color: var(--fill-color);\n",
              "      border-top-color: var(--fill-color);\n",
              "    }\n",
              "    30% {\n",
              "      border-color: transparent;\n",
              "      border-left-color: var(--fill-color);\n",
              "      border-top-color: var(--fill-color);\n",
              "      border-right-color: var(--fill-color);\n",
              "    }\n",
              "    40% {\n",
              "      border-color: transparent;\n",
              "      border-right-color: var(--fill-color);\n",
              "      border-top-color: var(--fill-color);\n",
              "    }\n",
              "    60% {\n",
              "      border-color: transparent;\n",
              "      border-right-color: var(--fill-color);\n",
              "    }\n",
              "    80% {\n",
              "      border-color: transparent;\n",
              "      border-right-color: var(--fill-color);\n",
              "      border-bottom-color: var(--fill-color);\n",
              "    }\n",
              "    90% {\n",
              "      border-color: transparent;\n",
              "      border-bottom-color: var(--fill-color);\n",
              "    }\n",
              "  }\n",
              "</style>\n",
              "\n",
              "  <script>\n",
              "    async function quickchart(key) {\n",
              "      const quickchartButtonEl =\n",
              "        document.querySelector('#' + key + ' button');\n",
              "      quickchartButtonEl.disabled = true;  // To prevent multiple clicks.\n",
              "      quickchartButtonEl.classList.add('colab-df-spinner');\n",
              "      try {\n",
              "        const charts = await google.colab.kernel.invokeFunction(\n",
              "            'suggestCharts', [key], {});\n",
              "      } catch (error) {\n",
              "        console.error('Error during call to suggestCharts:', error);\n",
              "      }\n",
              "      quickchartButtonEl.classList.remove('colab-df-spinner');\n",
              "      quickchartButtonEl.classList.add('colab-df-quickchart-complete');\n",
              "    }\n",
              "    (() => {\n",
              "      let quickchartButtonEl =\n",
              "        document.querySelector('#df-bfa10769-314c-4645-bec4-dc7fdad6335e button');\n",
              "      quickchartButtonEl.style.display =\n",
              "        google.colab.kernel.accessAllowed ? 'block' : 'none';\n",
              "    })();\n",
              "  </script>\n",
              "</div>\n",
              "    </div>\n",
              "  </div>\n"
            ]
          },
          "metadata": {},
          "execution_count": 3
        }
      ]
    },
    {
      "cell_type": "code",
      "source": [
        "df.tail()"
      ],
      "metadata": {
        "colab": {
          "base_uri": "https://localhost:8080/",
          "height": 206
        },
        "id": "btmwQ1HxMjLR",
        "outputId": "adbbcd5e-947a-4a9a-f663-3aa90cbd3d25"
      },
      "execution_count": null,
      "outputs": [
        {
          "output_type": "execute_result",
          "data": {
            "text/plain": [
              "     sepal_length  sepal_width  petal_length  petal_width         species\n",
              "145           6.7          3.0           5.2          2.3  Iris-virginica\n",
              "146           6.3          2.5           5.0          1.9  Iris-virginica\n",
              "147           6.5          3.0           5.2          2.0  Iris-virginica\n",
              "148           6.2          3.4           5.4          2.3  Iris-virginica\n",
              "149           5.9          3.0           5.1          1.8  Iris-virginica"
            ],
            "text/html": [
              "\n",
              "  <div id=\"df-048cdb9e-5dbe-4a26-bf05-159ef94c2d74\" class=\"colab-df-container\">\n",
              "    <div>\n",
              "<style scoped>\n",
              "    .dataframe tbody tr th:only-of-type {\n",
              "        vertical-align: middle;\n",
              "    }\n",
              "\n",
              "    .dataframe tbody tr th {\n",
              "        vertical-align: top;\n",
              "    }\n",
              "\n",
              "    .dataframe thead th {\n",
              "        text-align: right;\n",
              "    }\n",
              "</style>\n",
              "<table border=\"1\" class=\"dataframe\">\n",
              "  <thead>\n",
              "    <tr style=\"text-align: right;\">\n",
              "      <th></th>\n",
              "      <th>sepal_length</th>\n",
              "      <th>sepal_width</th>\n",
              "      <th>petal_length</th>\n",
              "      <th>petal_width</th>\n",
              "      <th>species</th>\n",
              "    </tr>\n",
              "  </thead>\n",
              "  <tbody>\n",
              "    <tr>\n",
              "      <th>145</th>\n",
              "      <td>6.7</td>\n",
              "      <td>3.0</td>\n",
              "      <td>5.2</td>\n",
              "      <td>2.3</td>\n",
              "      <td>Iris-virginica</td>\n",
              "    </tr>\n",
              "    <tr>\n",
              "      <th>146</th>\n",
              "      <td>6.3</td>\n",
              "      <td>2.5</td>\n",
              "      <td>5.0</td>\n",
              "      <td>1.9</td>\n",
              "      <td>Iris-virginica</td>\n",
              "    </tr>\n",
              "    <tr>\n",
              "      <th>147</th>\n",
              "      <td>6.5</td>\n",
              "      <td>3.0</td>\n",
              "      <td>5.2</td>\n",
              "      <td>2.0</td>\n",
              "      <td>Iris-virginica</td>\n",
              "    </tr>\n",
              "    <tr>\n",
              "      <th>148</th>\n",
              "      <td>6.2</td>\n",
              "      <td>3.4</td>\n",
              "      <td>5.4</td>\n",
              "      <td>2.3</td>\n",
              "      <td>Iris-virginica</td>\n",
              "    </tr>\n",
              "    <tr>\n",
              "      <th>149</th>\n",
              "      <td>5.9</td>\n",
              "      <td>3.0</td>\n",
              "      <td>5.1</td>\n",
              "      <td>1.8</td>\n",
              "      <td>Iris-virginica</td>\n",
              "    </tr>\n",
              "  </tbody>\n",
              "</table>\n",
              "</div>\n",
              "    <div class=\"colab-df-buttons\">\n",
              "\n",
              "  <div class=\"colab-df-container\">\n",
              "    <button class=\"colab-df-convert\" onclick=\"convertToInteractive('df-048cdb9e-5dbe-4a26-bf05-159ef94c2d74')\"\n",
              "            title=\"Convert this dataframe to an interactive table.\"\n",
              "            style=\"display:none;\">\n",
              "\n",
              "  <svg xmlns=\"http://www.w3.org/2000/svg\" height=\"24px\" viewBox=\"0 -960 960 960\">\n",
              "    <path d=\"M120-120v-720h720v720H120Zm60-500h600v-160H180v160Zm220 220h160v-160H400v160Zm0 220h160v-160H400v160ZM180-400h160v-160H180v160Zm440 0h160v-160H620v160ZM180-180h160v-160H180v160Zm440 0h160v-160H620v160Z\"/>\n",
              "  </svg>\n",
              "    </button>\n",
              "\n",
              "  <style>\n",
              "    .colab-df-container {\n",
              "      display:flex;\n",
              "      gap: 12px;\n",
              "    }\n",
              "\n",
              "    .colab-df-convert {\n",
              "      background-color: #E8F0FE;\n",
              "      border: none;\n",
              "      border-radius: 50%;\n",
              "      cursor: pointer;\n",
              "      display: none;\n",
              "      fill: #1967D2;\n",
              "      height: 32px;\n",
              "      padding: 0 0 0 0;\n",
              "      width: 32px;\n",
              "    }\n",
              "\n",
              "    .colab-df-convert:hover {\n",
              "      background-color: #E2EBFA;\n",
              "      box-shadow: 0px 1px 2px rgba(60, 64, 67, 0.3), 0px 1px 3px 1px rgba(60, 64, 67, 0.15);\n",
              "      fill: #174EA6;\n",
              "    }\n",
              "\n",
              "    .colab-df-buttons div {\n",
              "      margin-bottom: 4px;\n",
              "    }\n",
              "\n",
              "    [theme=dark] .colab-df-convert {\n",
              "      background-color: #3B4455;\n",
              "      fill: #D2E3FC;\n",
              "    }\n",
              "\n",
              "    [theme=dark] .colab-df-convert:hover {\n",
              "      background-color: #434B5C;\n",
              "      box-shadow: 0px 1px 3px 1px rgba(0, 0, 0, 0.15);\n",
              "      filter: drop-shadow(0px 1px 2px rgba(0, 0, 0, 0.3));\n",
              "      fill: #FFFFFF;\n",
              "    }\n",
              "  </style>\n",
              "\n",
              "    <script>\n",
              "      const buttonEl =\n",
              "        document.querySelector('#df-048cdb9e-5dbe-4a26-bf05-159ef94c2d74 button.colab-df-convert');\n",
              "      buttonEl.style.display =\n",
              "        google.colab.kernel.accessAllowed ? 'block' : 'none';\n",
              "\n",
              "      async function convertToInteractive(key) {\n",
              "        const element = document.querySelector('#df-048cdb9e-5dbe-4a26-bf05-159ef94c2d74');\n",
              "        const dataTable =\n",
              "          await google.colab.kernel.invokeFunction('convertToInteractive',\n",
              "                                                    [key], {});\n",
              "        if (!dataTable) return;\n",
              "\n",
              "        const docLinkHtml = 'Like what you see? Visit the ' +\n",
              "          '<a target=\"_blank\" href=https://colab.research.google.com/notebooks/data_table.ipynb>data table notebook</a>'\n",
              "          + ' to learn more about interactive tables.';\n",
              "        element.innerHTML = '';\n",
              "        dataTable['output_type'] = 'display_data';\n",
              "        await google.colab.output.renderOutput(dataTable, element);\n",
              "        const docLink = document.createElement('div');\n",
              "        docLink.innerHTML = docLinkHtml;\n",
              "        element.appendChild(docLink);\n",
              "      }\n",
              "    </script>\n",
              "  </div>\n",
              "\n",
              "\n",
              "<div id=\"df-79d565de-f15a-4596-b1f4-9c8798de3c36\">\n",
              "  <button class=\"colab-df-quickchart\" onclick=\"quickchart('df-79d565de-f15a-4596-b1f4-9c8798de3c36')\"\n",
              "            title=\"Suggest charts\"\n",
              "            style=\"display:none;\">\n",
              "\n",
              "<svg xmlns=\"http://www.w3.org/2000/svg\" height=\"24px\"viewBox=\"0 0 24 24\"\n",
              "     width=\"24px\">\n",
              "    <g>\n",
              "        <path d=\"M19 3H5c-1.1 0-2 .9-2 2v14c0 1.1.9 2 2 2h14c1.1 0 2-.9 2-2V5c0-1.1-.9-2-2-2zM9 17H7v-7h2v7zm4 0h-2V7h2v10zm4 0h-2v-4h2v4z\"/>\n",
              "    </g>\n",
              "</svg>\n",
              "  </button>\n",
              "\n",
              "<style>\n",
              "  .colab-df-quickchart {\n",
              "      --bg-color: #E8F0FE;\n",
              "      --fill-color: #1967D2;\n",
              "      --hover-bg-color: #E2EBFA;\n",
              "      --hover-fill-color: #174EA6;\n",
              "      --disabled-fill-color: #AAA;\n",
              "      --disabled-bg-color: #DDD;\n",
              "  }\n",
              "\n",
              "  [theme=dark] .colab-df-quickchart {\n",
              "      --bg-color: #3B4455;\n",
              "      --fill-color: #D2E3FC;\n",
              "      --hover-bg-color: #434B5C;\n",
              "      --hover-fill-color: #FFFFFF;\n",
              "      --disabled-bg-color: #3B4455;\n",
              "      --disabled-fill-color: #666;\n",
              "  }\n",
              "\n",
              "  .colab-df-quickchart {\n",
              "    background-color: var(--bg-color);\n",
              "    border: none;\n",
              "    border-radius: 50%;\n",
              "    cursor: pointer;\n",
              "    display: none;\n",
              "    fill: var(--fill-color);\n",
              "    height: 32px;\n",
              "    padding: 0;\n",
              "    width: 32px;\n",
              "  }\n",
              "\n",
              "  .colab-df-quickchart:hover {\n",
              "    background-color: var(--hover-bg-color);\n",
              "    box-shadow: 0 1px 2px rgba(60, 64, 67, 0.3), 0 1px 3px 1px rgba(60, 64, 67, 0.15);\n",
              "    fill: var(--button-hover-fill-color);\n",
              "  }\n",
              "\n",
              "  .colab-df-quickchart-complete:disabled,\n",
              "  .colab-df-quickchart-complete:disabled:hover {\n",
              "    background-color: var(--disabled-bg-color);\n",
              "    fill: var(--disabled-fill-color);\n",
              "    box-shadow: none;\n",
              "  }\n",
              "\n",
              "  .colab-df-spinner {\n",
              "    border: 2px solid var(--fill-color);\n",
              "    border-color: transparent;\n",
              "    border-bottom-color: var(--fill-color);\n",
              "    animation:\n",
              "      spin 1s steps(1) infinite;\n",
              "  }\n",
              "\n",
              "  @keyframes spin {\n",
              "    0% {\n",
              "      border-color: transparent;\n",
              "      border-bottom-color: var(--fill-color);\n",
              "      border-left-color: var(--fill-color);\n",
              "    }\n",
              "    20% {\n",
              "      border-color: transparent;\n",
              "      border-left-color: var(--fill-color);\n",
              "      border-top-color: var(--fill-color);\n",
              "    }\n",
              "    30% {\n",
              "      border-color: transparent;\n",
              "      border-left-color: var(--fill-color);\n",
              "      border-top-color: var(--fill-color);\n",
              "      border-right-color: var(--fill-color);\n",
              "    }\n",
              "    40% {\n",
              "      border-color: transparent;\n",
              "      border-right-color: var(--fill-color);\n",
              "      border-top-color: var(--fill-color);\n",
              "    }\n",
              "    60% {\n",
              "      border-color: transparent;\n",
              "      border-right-color: var(--fill-color);\n",
              "    }\n",
              "    80% {\n",
              "      border-color: transparent;\n",
              "      border-right-color: var(--fill-color);\n",
              "      border-bottom-color: var(--fill-color);\n",
              "    }\n",
              "    90% {\n",
              "      border-color: transparent;\n",
              "      border-bottom-color: var(--fill-color);\n",
              "    }\n",
              "  }\n",
              "</style>\n",
              "\n",
              "  <script>\n",
              "    async function quickchart(key) {\n",
              "      const quickchartButtonEl =\n",
              "        document.querySelector('#' + key + ' button');\n",
              "      quickchartButtonEl.disabled = true;  // To prevent multiple clicks.\n",
              "      quickchartButtonEl.classList.add('colab-df-spinner');\n",
              "      try {\n",
              "        const charts = await google.colab.kernel.invokeFunction(\n",
              "            'suggestCharts', [key], {});\n",
              "      } catch (error) {\n",
              "        console.error('Error during call to suggestCharts:', error);\n",
              "      }\n",
              "      quickchartButtonEl.classList.remove('colab-df-spinner');\n",
              "      quickchartButtonEl.classList.add('colab-df-quickchart-complete');\n",
              "    }\n",
              "    (() => {\n",
              "      let quickchartButtonEl =\n",
              "        document.querySelector('#df-79d565de-f15a-4596-b1f4-9c8798de3c36 button');\n",
              "      quickchartButtonEl.style.display =\n",
              "        google.colab.kernel.accessAllowed ? 'block' : 'none';\n",
              "    })();\n",
              "  </script>\n",
              "</div>\n",
              "    </div>\n",
              "  </div>\n"
            ]
          },
          "metadata": {},
          "execution_count": 4
        }
      ]
    },
    {
      "cell_type": "code",
      "source": [
        "df['species'].value_counts()"
      ],
      "metadata": {
        "colab": {
          "base_uri": "https://localhost:8080/"
        },
        "id": "hzsFd5hKKL0y",
        "outputId": "b97e472d-e4ec-41a1-c726-7e27be98e00b"
      },
      "execution_count": null,
      "outputs": [
        {
          "output_type": "execute_result",
          "data": {
            "text/plain": [
              "Iris-setosa        50\n",
              "Iris-versicolor    50\n",
              "Iris-virginica     50\n",
              "Name: species, dtype: int64"
            ]
          },
          "metadata": {},
          "execution_count": 5
        }
      ]
    },
    {
      "cell_type": "markdown",
      "source": [
        "**Data Processing**"
      ],
      "metadata": {
        "id": "SGR16uZH11K6"
      }
    },
    {
      "cell_type": "code",
      "source": [
        "df.columns"
      ],
      "metadata": {
        "colab": {
          "base_uri": "https://localhost:8080/"
        },
        "id": "pR0gHkuPMkmK",
        "outputId": "370f983d-0e6f-423d-8988-5aa00ee728a8"
      },
      "execution_count": null,
      "outputs": [
        {
          "output_type": "execute_result",
          "data": {
            "text/plain": [
              "Index(['sepal_length', 'sepal_width', 'petal_length', 'petal_width',\n",
              "       'species'],\n",
              "      dtype='object')"
            ]
          },
          "metadata": {},
          "execution_count": 6
        }
      ]
    },
    {
      "cell_type": "code",
      "source": [
        "df.dtypes"
      ],
      "metadata": {
        "colab": {
          "base_uri": "https://localhost:8080/"
        },
        "id": "qJHaAJYFMlzB",
        "outputId": "9b9ae464-1f48-4a41-8412-ab502b7d128f"
      },
      "execution_count": null,
      "outputs": [
        {
          "output_type": "execute_result",
          "data": {
            "text/plain": [
              "sepal_length    float64\n",
              "sepal_width     float64\n",
              "petal_length    float64\n",
              "petal_width     float64\n",
              "species          object\n",
              "dtype: object"
            ]
          },
          "metadata": {},
          "execution_count": 7
        }
      ]
    },
    {
      "cell_type": "code",
      "source": [
        "df.describe()"
      ],
      "metadata": {
        "colab": {
          "base_uri": "https://localhost:8080/",
          "height": 300
        },
        "id": "eoTRZ3Pvm0_1",
        "outputId": "92e91617-b710-4256-9de0-3c2136756121"
      },
      "execution_count": null,
      "outputs": [
        {
          "output_type": "execute_result",
          "data": {
            "text/plain": [
              "       sepal_length  sepal_width  petal_length  petal_width\n",
              "count    150.000000   150.000000    150.000000   150.000000\n",
              "mean       5.843333     3.054000      3.758667     1.198667\n",
              "std        0.828066     0.433594      1.764420     0.763161\n",
              "min        4.300000     2.000000      1.000000     0.100000\n",
              "25%        5.100000     2.800000      1.600000     0.300000\n",
              "50%        5.800000     3.000000      4.350000     1.300000\n",
              "75%        6.400000     3.300000      5.100000     1.800000\n",
              "max        7.900000     4.400000      6.900000     2.500000"
            ],
            "text/html": [
              "\n",
              "  <div id=\"df-f90e956b-2ecc-4e75-84fb-c866de9c496f\" class=\"colab-df-container\">\n",
              "    <div>\n",
              "<style scoped>\n",
              "    .dataframe tbody tr th:only-of-type {\n",
              "        vertical-align: middle;\n",
              "    }\n",
              "\n",
              "    .dataframe tbody tr th {\n",
              "        vertical-align: top;\n",
              "    }\n",
              "\n",
              "    .dataframe thead th {\n",
              "        text-align: right;\n",
              "    }\n",
              "</style>\n",
              "<table border=\"1\" class=\"dataframe\">\n",
              "  <thead>\n",
              "    <tr style=\"text-align: right;\">\n",
              "      <th></th>\n",
              "      <th>sepal_length</th>\n",
              "      <th>sepal_width</th>\n",
              "      <th>petal_length</th>\n",
              "      <th>petal_width</th>\n",
              "    </tr>\n",
              "  </thead>\n",
              "  <tbody>\n",
              "    <tr>\n",
              "      <th>count</th>\n",
              "      <td>150.000000</td>\n",
              "      <td>150.000000</td>\n",
              "      <td>150.000000</td>\n",
              "      <td>150.000000</td>\n",
              "    </tr>\n",
              "    <tr>\n",
              "      <th>mean</th>\n",
              "      <td>5.843333</td>\n",
              "      <td>3.054000</td>\n",
              "      <td>3.758667</td>\n",
              "      <td>1.198667</td>\n",
              "    </tr>\n",
              "    <tr>\n",
              "      <th>std</th>\n",
              "      <td>0.828066</td>\n",
              "      <td>0.433594</td>\n",
              "      <td>1.764420</td>\n",
              "      <td>0.763161</td>\n",
              "    </tr>\n",
              "    <tr>\n",
              "      <th>min</th>\n",
              "      <td>4.300000</td>\n",
              "      <td>2.000000</td>\n",
              "      <td>1.000000</td>\n",
              "      <td>0.100000</td>\n",
              "    </tr>\n",
              "    <tr>\n",
              "      <th>25%</th>\n",
              "      <td>5.100000</td>\n",
              "      <td>2.800000</td>\n",
              "      <td>1.600000</td>\n",
              "      <td>0.300000</td>\n",
              "    </tr>\n",
              "    <tr>\n",
              "      <th>50%</th>\n",
              "      <td>5.800000</td>\n",
              "      <td>3.000000</td>\n",
              "      <td>4.350000</td>\n",
              "      <td>1.300000</td>\n",
              "    </tr>\n",
              "    <tr>\n",
              "      <th>75%</th>\n",
              "      <td>6.400000</td>\n",
              "      <td>3.300000</td>\n",
              "      <td>5.100000</td>\n",
              "      <td>1.800000</td>\n",
              "    </tr>\n",
              "    <tr>\n",
              "      <th>max</th>\n",
              "      <td>7.900000</td>\n",
              "      <td>4.400000</td>\n",
              "      <td>6.900000</td>\n",
              "      <td>2.500000</td>\n",
              "    </tr>\n",
              "  </tbody>\n",
              "</table>\n",
              "</div>\n",
              "    <div class=\"colab-df-buttons\">\n",
              "\n",
              "  <div class=\"colab-df-container\">\n",
              "    <button class=\"colab-df-convert\" onclick=\"convertToInteractive('df-f90e956b-2ecc-4e75-84fb-c866de9c496f')\"\n",
              "            title=\"Convert this dataframe to an interactive table.\"\n",
              "            style=\"display:none;\">\n",
              "\n",
              "  <svg xmlns=\"http://www.w3.org/2000/svg\" height=\"24px\" viewBox=\"0 -960 960 960\">\n",
              "    <path d=\"M120-120v-720h720v720H120Zm60-500h600v-160H180v160Zm220 220h160v-160H400v160Zm0 220h160v-160H400v160ZM180-400h160v-160H180v160Zm440 0h160v-160H620v160ZM180-180h160v-160H180v160Zm440 0h160v-160H620v160Z\"/>\n",
              "  </svg>\n",
              "    </button>\n",
              "\n",
              "  <style>\n",
              "    .colab-df-container {\n",
              "      display:flex;\n",
              "      gap: 12px;\n",
              "    }\n",
              "\n",
              "    .colab-df-convert {\n",
              "      background-color: #E8F0FE;\n",
              "      border: none;\n",
              "      border-radius: 50%;\n",
              "      cursor: pointer;\n",
              "      display: none;\n",
              "      fill: #1967D2;\n",
              "      height: 32px;\n",
              "      padding: 0 0 0 0;\n",
              "      width: 32px;\n",
              "    }\n",
              "\n",
              "    .colab-df-convert:hover {\n",
              "      background-color: #E2EBFA;\n",
              "      box-shadow: 0px 1px 2px rgba(60, 64, 67, 0.3), 0px 1px 3px 1px rgba(60, 64, 67, 0.15);\n",
              "      fill: #174EA6;\n",
              "    }\n",
              "\n",
              "    .colab-df-buttons div {\n",
              "      margin-bottom: 4px;\n",
              "    }\n",
              "\n",
              "    [theme=dark] .colab-df-convert {\n",
              "      background-color: #3B4455;\n",
              "      fill: #D2E3FC;\n",
              "    }\n",
              "\n",
              "    [theme=dark] .colab-df-convert:hover {\n",
              "      background-color: #434B5C;\n",
              "      box-shadow: 0px 1px 3px 1px rgba(0, 0, 0, 0.15);\n",
              "      filter: drop-shadow(0px 1px 2px rgba(0, 0, 0, 0.3));\n",
              "      fill: #FFFFFF;\n",
              "    }\n",
              "  </style>\n",
              "\n",
              "    <script>\n",
              "      const buttonEl =\n",
              "        document.querySelector('#df-f90e956b-2ecc-4e75-84fb-c866de9c496f button.colab-df-convert');\n",
              "      buttonEl.style.display =\n",
              "        google.colab.kernel.accessAllowed ? 'block' : 'none';\n",
              "\n",
              "      async function convertToInteractive(key) {\n",
              "        const element = document.querySelector('#df-f90e956b-2ecc-4e75-84fb-c866de9c496f');\n",
              "        const dataTable =\n",
              "          await google.colab.kernel.invokeFunction('convertToInteractive',\n",
              "                                                    [key], {});\n",
              "        if (!dataTable) return;\n",
              "\n",
              "        const docLinkHtml = 'Like what you see? Visit the ' +\n",
              "          '<a target=\"_blank\" href=https://colab.research.google.com/notebooks/data_table.ipynb>data table notebook</a>'\n",
              "          + ' to learn more about interactive tables.';\n",
              "        element.innerHTML = '';\n",
              "        dataTable['output_type'] = 'display_data';\n",
              "        await google.colab.output.renderOutput(dataTable, element);\n",
              "        const docLink = document.createElement('div');\n",
              "        docLink.innerHTML = docLinkHtml;\n",
              "        element.appendChild(docLink);\n",
              "      }\n",
              "    </script>\n",
              "  </div>\n",
              "\n",
              "\n",
              "<div id=\"df-5f9c8c75-613d-4959-a92a-fd0e0e67f301\">\n",
              "  <button class=\"colab-df-quickchart\" onclick=\"quickchart('df-5f9c8c75-613d-4959-a92a-fd0e0e67f301')\"\n",
              "            title=\"Suggest charts\"\n",
              "            style=\"display:none;\">\n",
              "\n",
              "<svg xmlns=\"http://www.w3.org/2000/svg\" height=\"24px\"viewBox=\"0 0 24 24\"\n",
              "     width=\"24px\">\n",
              "    <g>\n",
              "        <path d=\"M19 3H5c-1.1 0-2 .9-2 2v14c0 1.1.9 2 2 2h14c1.1 0 2-.9 2-2V5c0-1.1-.9-2-2-2zM9 17H7v-7h2v7zm4 0h-2V7h2v10zm4 0h-2v-4h2v4z\"/>\n",
              "    </g>\n",
              "</svg>\n",
              "  </button>\n",
              "\n",
              "<style>\n",
              "  .colab-df-quickchart {\n",
              "      --bg-color: #E8F0FE;\n",
              "      --fill-color: #1967D2;\n",
              "      --hover-bg-color: #E2EBFA;\n",
              "      --hover-fill-color: #174EA6;\n",
              "      --disabled-fill-color: #AAA;\n",
              "      --disabled-bg-color: #DDD;\n",
              "  }\n",
              "\n",
              "  [theme=dark] .colab-df-quickchart {\n",
              "      --bg-color: #3B4455;\n",
              "      --fill-color: #D2E3FC;\n",
              "      --hover-bg-color: #434B5C;\n",
              "      --hover-fill-color: #FFFFFF;\n",
              "      --disabled-bg-color: #3B4455;\n",
              "      --disabled-fill-color: #666;\n",
              "  }\n",
              "\n",
              "  .colab-df-quickchart {\n",
              "    background-color: var(--bg-color);\n",
              "    border: none;\n",
              "    border-radius: 50%;\n",
              "    cursor: pointer;\n",
              "    display: none;\n",
              "    fill: var(--fill-color);\n",
              "    height: 32px;\n",
              "    padding: 0;\n",
              "    width: 32px;\n",
              "  }\n",
              "\n",
              "  .colab-df-quickchart:hover {\n",
              "    background-color: var(--hover-bg-color);\n",
              "    box-shadow: 0 1px 2px rgba(60, 64, 67, 0.3), 0 1px 3px 1px rgba(60, 64, 67, 0.15);\n",
              "    fill: var(--button-hover-fill-color);\n",
              "  }\n",
              "\n",
              "  .colab-df-quickchart-complete:disabled,\n",
              "  .colab-df-quickchart-complete:disabled:hover {\n",
              "    background-color: var(--disabled-bg-color);\n",
              "    fill: var(--disabled-fill-color);\n",
              "    box-shadow: none;\n",
              "  }\n",
              "\n",
              "  .colab-df-spinner {\n",
              "    border: 2px solid var(--fill-color);\n",
              "    border-color: transparent;\n",
              "    border-bottom-color: var(--fill-color);\n",
              "    animation:\n",
              "      spin 1s steps(1) infinite;\n",
              "  }\n",
              "\n",
              "  @keyframes spin {\n",
              "    0% {\n",
              "      border-color: transparent;\n",
              "      border-bottom-color: var(--fill-color);\n",
              "      border-left-color: var(--fill-color);\n",
              "    }\n",
              "    20% {\n",
              "      border-color: transparent;\n",
              "      border-left-color: var(--fill-color);\n",
              "      border-top-color: var(--fill-color);\n",
              "    }\n",
              "    30% {\n",
              "      border-color: transparent;\n",
              "      border-left-color: var(--fill-color);\n",
              "      border-top-color: var(--fill-color);\n",
              "      border-right-color: var(--fill-color);\n",
              "    }\n",
              "    40% {\n",
              "      border-color: transparent;\n",
              "      border-right-color: var(--fill-color);\n",
              "      border-top-color: var(--fill-color);\n",
              "    }\n",
              "    60% {\n",
              "      border-color: transparent;\n",
              "      border-right-color: var(--fill-color);\n",
              "    }\n",
              "    80% {\n",
              "      border-color: transparent;\n",
              "      border-right-color: var(--fill-color);\n",
              "      border-bottom-color: var(--fill-color);\n",
              "    }\n",
              "    90% {\n",
              "      border-color: transparent;\n",
              "      border-bottom-color: var(--fill-color);\n",
              "    }\n",
              "  }\n",
              "</style>\n",
              "\n",
              "  <script>\n",
              "    async function quickchart(key) {\n",
              "      const quickchartButtonEl =\n",
              "        document.querySelector('#' + key + ' button');\n",
              "      quickchartButtonEl.disabled = true;  // To prevent multiple clicks.\n",
              "      quickchartButtonEl.classList.add('colab-df-spinner');\n",
              "      try {\n",
              "        const charts = await google.colab.kernel.invokeFunction(\n",
              "            'suggestCharts', [key], {});\n",
              "      } catch (error) {\n",
              "        console.error('Error during call to suggestCharts:', error);\n",
              "      }\n",
              "      quickchartButtonEl.classList.remove('colab-df-spinner');\n",
              "      quickchartButtonEl.classList.add('colab-df-quickchart-complete');\n",
              "    }\n",
              "    (() => {\n",
              "      let quickchartButtonEl =\n",
              "        document.querySelector('#df-5f9c8c75-613d-4959-a92a-fd0e0e67f301 button');\n",
              "      quickchartButtonEl.style.display =\n",
              "        google.colab.kernel.accessAllowed ? 'block' : 'none';\n",
              "    })();\n",
              "  </script>\n",
              "</div>\n",
              "    </div>\n",
              "  </div>\n"
            ]
          },
          "metadata": {},
          "execution_count": 8
        }
      ]
    },
    {
      "cell_type": "code",
      "source": [
        "df.info()"
      ],
      "metadata": {
        "colab": {
          "base_uri": "https://localhost:8080/"
        },
        "id": "eh6FCA1Bm44O",
        "outputId": "2bdc59eb-1128-41d2-d569-5fc15032983b"
      },
      "execution_count": null,
      "outputs": [
        {
          "output_type": "stream",
          "name": "stdout",
          "text": [
            "<class 'pandas.core.frame.DataFrame'>\n",
            "RangeIndex: 150 entries, 0 to 149\n",
            "Data columns (total 5 columns):\n",
            " #   Column        Non-Null Count  Dtype  \n",
            "---  ------        --------------  -----  \n",
            " 0   sepal_length  150 non-null    float64\n",
            " 1   sepal_width   150 non-null    float64\n",
            " 2   petal_length  150 non-null    float64\n",
            " 3   petal_width   150 non-null    float64\n",
            " 4   species       150 non-null    object \n",
            "dtypes: float64(4), object(1)\n",
            "memory usage: 6.0+ KB\n"
          ]
        }
      ]
    },
    {
      "cell_type": "markdown",
      "source": [
        "**Data Cleaning**\n",
        "\n",
        "\n",
        "\n",
        "*   Check the missingvalues and fill it with proper way.\n",
        "\n"
      ],
      "metadata": {
        "id": "NeEfhin1l7pa"
      }
    },
    {
      "cell_type": "code",
      "source": [
        "df.isna().sum()"
      ],
      "metadata": {
        "colab": {
          "base_uri": "https://localhost:8080/"
        },
        "id": "elPFkfXQM2Qw",
        "outputId": "956cd2e7-e314-41e0-a088-44531f8be2dd"
      },
      "execution_count": null,
      "outputs": [
        {
          "output_type": "execute_result",
          "data": {
            "text/plain": [
              "sepal_length    0\n",
              "sepal_width     0\n",
              "petal_length    0\n",
              "petal_width     0\n",
              "species         0\n",
              "dtype: int64"
            ]
          },
          "metadata": {},
          "execution_count": 10
        }
      ]
    },
    {
      "cell_type": "markdown",
      "source": [
        "There is no missing values in our iris dataframe."
      ],
      "metadata": {
        "id": "MHzYUr8DrIdr"
      }
    },
    {
      "cell_type": "markdown",
      "source": [
        "**Data Visualization**\n",
        "\n",
        "Finding the correlation between the columns present in our dataset."
      ],
      "metadata": {
        "id": "q844VpognDwe"
      }
    },
    {
      "cell_type": "code",
      "source": [
        "#Ploting distribution\n",
        "df.hist(figsize=(5,5),color='purple')\n"
      ],
      "metadata": {
        "colab": {
          "base_uri": "https://localhost:8080/",
          "height": 537
        },
        "id": "dJLQ2VkUnBBq",
        "outputId": "855a4f71-ab9f-43ea-fca3-54879a4e1761"
      },
      "execution_count": null,
      "outputs": [
        {
          "output_type": "execute_result",
          "data": {
            "text/plain": [
              "array([[<Axes: title={'center': 'sepal_length'}>,\n",
              "        <Axes: title={'center': 'sepal_width'}>],\n",
              "       [<Axes: title={'center': 'petal_length'}>,\n",
              "        <Axes: title={'center': 'petal_width'}>]], dtype=object)"
            ]
          },
          "metadata": {},
          "execution_count": 12
        },
        {
          "output_type": "display_data",
          "data": {
            "text/plain": [
              "<Figure size 500x500 with 4 Axes>"
            ],
            "image/png": "[encoded data removed]"
          },
          "metadata": {}
        }
      ]
    },
    {
      "cell_type": "code",
      "source": [
        "#Boxplot : to remove the outletvalues.\n",
        "sns.boxplot(df)"
      ],
      "metadata": {
        "colab": {
          "base_uri": "https://localhost:8080/",
          "height": 447
        },
        "id": "7nnMTi5hsxCe",
        "outputId": "7662a940-8b60-4b07-c831-afd4e8b5e518"
      },
      "execution_count": null,
      "outputs": [
        {
          "output_type": "execute_result",
          "data": {
            "text/plain": [
              "<Axes: >"
            ]
          },
          "metadata": {},
          "execution_count": 13
        },
        {
          "output_type": "display_data",
          "data": {
            "text/plain": [
              "<Figure size 640x480 with 1 Axes>"
            ],
            "image/png": "[encoded data removed]"
          },
          "metadata": {}
        }
      ]
    },
    {
      "cell_type": "markdown",
      "source": [
        "In our dataset , the datas in the 'Sepalwidth' column only contain outlayer values."
      ],
      "metadata": {
        "id": "u0HUKjh5tLiJ"
      }
    },
    {
      "cell_type": "code",
      "source": [
        "# Calculate the interquartile range (IQR)\n",
        "Q1 = df['sepal_width'].quantile(0.25)\n",
        "Q3 = df['sepal_width'].quantile(0.75)\n",
        "IQR = Q3 - Q1\n",
        "\n",
        "# Define the upper and lower bounds to identify outliers\n",
        "lower_bound = Q1 - 1.5 * IQR\n",
        "upper_bound = Q3 + 1.5 * IQR\n",
        "\n",
        "# Filter out rows where sepal_width is outside the bounds\n",
        "df1 = df[(df['sepal_width'] >= lower_bound) & (df['sepal_width'] <= upper_bound)]\n"
      ],
      "metadata": {
        "id": "34rNgHiGAJrs"
      },
      "execution_count": null,
      "outputs": []
    },
    {
      "cell_type": "code",
      "source": [
        "sns.boxplot(df1['sepal_width'])"
      ],
      "metadata": {
        "colab": {
          "base_uri": "https://localhost:8080/",
          "height": 447
        },
        "id": "b24JzNRLAa3r",
        "outputId": "fc42e2c3-bcec-4c02-f54e-0e01386b9848"
      },
      "execution_count": null,
      "outputs": [
        {
          "output_type": "execute_result",
          "data": {
            "text/plain": [
              "<Axes: >"
            ]
          },
          "metadata": {},
          "execution_count": 18
        },
        {
          "output_type": "display_data",
          "data": {
            "text/plain": [
              "<Figure size 640x480 with 1 Axes>"
            ],
            "image/png": "[encoded data removed]"
          },
          "metadata": {}
        }
      ]
    },
    {
      "cell_type": "code",
      "source": [
        "#Saccaterplot\n",
        "#  1. Sepallenth v/s Sepalwidth\n",
        "sns.scatterplot(x='sepal_length',y='sepal_width',data=df1)"
      ],
      "metadata": {
        "colab": {
          "base_uri": "https://localhost:8080/",
          "height": 467
        },
        "id": "VExbZmLwvYIw",
        "outputId": "fea6aa92-5cc6-46ce-8e67-93edae016781"
      },
      "execution_count": null,
      "outputs": [
        {
          "output_type": "execute_result",
          "data": {
            "text/plain": [
              "<Axes: xlabel='sepal_length', ylabel='sepal_width'>"
            ]
          },
          "metadata": {},
          "execution_count": 20
        },
        {
          "output_type": "display_data",
          "data": {
            "text/plain": [
              "<Figure size 640x480 with 1 Axes>"
            ],
            "image/png": "[encoded data removed]"
          },
          "metadata": {}
        }
      ]
    },
    {
      "cell_type": "code",
      "source": [
        "  #2. Petallegth v/s Petalwidth.\n",
        "sns.scatterplot(x='petal_length',y='petal_width',data=df1)\n"
      ],
      "metadata": {
        "colab": {
          "base_uri": "https://localhost:8080/",
          "height": 467
        },
        "id": "-JfTEeMTt4yf",
        "outputId": "9880b27b-a69a-4fff-e191-881e347f0e15"
      },
      "execution_count": null,
      "outputs": [
        {
          "output_type": "execute_result",
          "data": {
            "text/plain": [
              "<Axes: xlabel='petal_length', ylabel='petal_width'>"
            ]
          },
          "metadata": {},
          "execution_count": 21
        },
        {
          "output_type": "display_data",
          "data": {
            "text/plain": [
              "<Figure size 640x480 with 1 Axes>"
            ],
            "image/png": "[encoded data removed]"
          },
          "metadata": {}
        }
      ]
    },
    {
      "cell_type": "markdown",
      "source": [
        "From this graph we can summerize that the petal lenth and petal width are directly propotional to each other."
      ],
      "metadata": {
        "id": "MlQ4zBvtux4E"
      }
    },
    {
      "cell_type": "code",
      "source": [
        "# HeatMap : Pairwise correlation of all the columns in the iris dataframe\n",
        "df1.corr()\n",
        "sns.heatmap(df1.corr(),annot=True)"
      ],
      "metadata": {
        "colab": {
          "base_uri": "https://localhost:8080/",
          "height": 542
        },
        "id": "C1N_Q73txXYM",
        "outputId": "dbe7965f-7ba8-4394-84b3-4b0e4a539af3"
      },
      "execution_count": null,
      "outputs": [
        {
          "output_type": "stream",
          "name": "stderr",
          "text": [
            "<ipython-input-22-fdda9083937f>:2: FutureWarning: The default value of numeric_only in DataFrame.corr is deprecated. In a future version, it will default to False. Select only valid columns or specify the value of numeric_only to silence this warning.\n",
            "  df1.corr()\n",
            "<ipython-input-22-fdda9083937f>:3: FutureWarning: The default value of numeric_only in DataFrame.corr is deprecated. In a future version, it will default to False. Select only valid columns or specify the value of numeric_only to silence this warning.\n",
            "  sns.heatmap(df1.corr(),annot=True)\n"
          ]
        },
        {
          "output_type": "execute_result",
          "data": {
            "text/plain": [
              "<Axes: >"
            ]
          },
          "metadata": {},
          "execution_count": 22
        },
        {
          "output_type": "display_data",
          "data": {
            "text/plain": [
              "<Figure size 640x480 with 2 Axes>"
            ],
            "image/png": "[encoded data removed]"
          },
          "metadata": {}
        }
      ]
    },
    {
      "cell_type": "markdown",
      "source": [
        "**Input and Output Separation**"
      ],
      "metadata": {
        "id": "Eq_LztYR1qRn"
      }
    },
    {
      "cell_type": "code",
      "source": [
        "x=df1.iloc[:,:-1].values\n",
        "y=df1.iloc[:,-1].values\n",
        "x\n",
        "y"
      ],
      "metadata": {
        "colab": {
          "base_uri": "https://localhost:8080/"
        },
        "id": "LsGZFj5wM-Pg",
        "outputId": "9d5da7b9-13b1-41d2-b5c3-3d0c5cbca84c"
      },
      "execution_count": null,
      "outputs": [
        {
          "output_type": "execute_result",
          "data": {
            "text/plain": [
              "array(['Iris-setosa', 'Iris-setosa', 'Iris-setosa', 'Iris-setosa',\n",
              "       'Iris-setosa', 'Iris-setosa', 'Iris-setosa', 'Iris-setosa',\n",
              "       'Iris-setosa', 'Iris-setosa', 'Iris-setosa', 'Iris-setosa',\n",
              "       'Iris-setosa', 'Iris-setosa', 'Iris-setosa', 'Iris-setosa',\n",
              "       'Iris-setosa', 'Iris-setosa', 'Iris-setosa', 'Iris-setosa',\n",
              "       'Iris-setosa', 'Iris-setosa', 'Iris-setosa', 'Iris-setosa',\n",
              "       'Iris-setosa', 'Iris-setosa', 'Iris-setosa', 'Iris-setosa',\n",
              "       'Iris-setosa', 'Iris-setosa', 'Iris-setosa', 'Iris-setosa',\n",
              "       'Iris-setosa', 'Iris-setosa', 'Iris-setosa', 'Iris-setosa',\n",
              "       'Iris-setosa', 'Iris-setosa', 'Iris-setosa', 'Iris-setosa',\n",
              "       'Iris-setosa', 'Iris-setosa', 'Iris-setosa', 'Iris-setosa',\n",
              "       'Iris-setosa', 'Iris-setosa', 'Iris-setosa', 'Iris-versicolor',\n",
              "       'Iris-versicolor', 'Iris-versicolor', 'Iris-versicolor',\n",
              "       'Iris-versicolor', 'Iris-versicolor', 'Iris-versicolor',\n",
              "       'Iris-versicolor', 'Iris-versicolor', 'Iris-versicolor',\n",
              "       'Iris-versicolor', 'Iris-versicolor', 'Iris-versicolor',\n",
              "       'Iris-versicolor', 'Iris-versicolor', 'Iris-versicolor',\n",
              "       'Iris-versicolor', 'Iris-versicolor', 'Iris-versicolor',\n",
              "       'Iris-versicolor', 'Iris-versicolor', 'Iris-versicolor',\n",
              "       'Iris-versicolor', 'Iris-versicolor', 'Iris-versicolor',\n",
              "       'Iris-versicolor', 'Iris-versicolor', 'Iris-versicolor',\n",
              "       'Iris-versicolor', 'Iris-versicolor', 'Iris-versicolor',\n",
              "       'Iris-versicolor', 'Iris-versicolor', 'Iris-versicolor',\n",
              "       'Iris-versicolor', 'Iris-versicolor', 'Iris-versicolor',\n",
              "       'Iris-versicolor', 'Iris-versicolor', 'Iris-versicolor',\n",
              "       'Iris-versicolor', 'Iris-versicolor', 'Iris-versicolor',\n",
              "       'Iris-versicolor', 'Iris-versicolor', 'Iris-versicolor',\n",
              "       'Iris-versicolor', 'Iris-versicolor', 'Iris-versicolor',\n",
              "       'Iris-virginica', 'Iris-virginica', 'Iris-virginica',\n",
              "       'Iris-virginica', 'Iris-virginica', 'Iris-virginica',\n",
              "       'Iris-virginica', 'Iris-virginica', 'Iris-virginica',\n",
              "       'Iris-virginica', 'Iris-virginica', 'Iris-virginica',\n",
              "       'Iris-virginica', 'Iris-virginica', 'Iris-virginica',\n",
              "       'Iris-virginica', 'Iris-virginica', 'Iris-virginica',\n",
              "       'Iris-virginica', 'Iris-virginica', 'Iris-virginica',\n",
              "       'Iris-virginica', 'Iris-virginica', 'Iris-virginica',\n",
              "       'Iris-virginica', 'Iris-virginica', 'Iris-virginica',\n",
              "       'Iris-virginica', 'Iris-virginica', 'Iris-virginica',\n",
              "       'Iris-virginica', 'Iris-virginica', 'Iris-virginica',\n",
              "       'Iris-virginica', 'Iris-virginica', 'Iris-virginica',\n",
              "       'Iris-virginica', 'Iris-virginica', 'Iris-virginica',\n",
              "       'Iris-virginica', 'Iris-virginica', 'Iris-virginica',\n",
              "       'Iris-virginica', 'Iris-virginica', 'Iris-virginica',\n",
              "       'Iris-virginica', 'Iris-virginica', 'Iris-virginica',\n",
              "       'Iris-virginica', 'Iris-virginica'], dtype=object)"
            ]
          },
          "metadata": {},
          "execution_count": 23
        }
      ]
    },
    {
      "cell_type": "markdown",
      "source": [
        "**Training and Testing Data**"
      ],
      "metadata": {
        "id": "k8HTkUMX1IXi"
      }
    },
    {
      "cell_type": "code",
      "source": [
        "from sklearn.model_selection import train_test_split\n",
        "x_train,x_test,y_train,y_test=train_test_split(x,y,test_size=0.30,random_state=42)"
      ],
      "metadata": {
        "id": "dCdXH7ItNN3U"
      },
      "execution_count": null,
      "outputs": []
    },
    {
      "cell_type": "code",
      "source": [
        "x_train"
      ],
      "metadata": {
        "colab": {
          "base_uri": "https://localhost:8080/"
        },
        "id": "QDuhu7tW1SCc",
        "outputId": "5212f328-ae73-49e1-f831-610a70d853fd"
      },
      "execution_count": null,
      "outputs": [
        {
          "output_type": "execute_result",
          "data": {
            "text/plain": [
              "array([[5.6, 2.8, 4.9, 2. ],\n",
              "       [6.4, 3.1, 5.5, 1.8],\n",
              "       [4.7, 3.2, 1.6, 0.2],\n",
              "       [5. , 3.5, 1.6, 0.6],\n",
              "       [6.7, 2.5, 5.8, 1.8],\n",
              "       [5. , 3. , 1.6, 0.2],\n",
              "       [5. , 3.4, 1.6, 0.4],\n",
              "       [4.8, 3.4, 1.9, 0.2],\n",
              "       [6. , 3.4, 4.5, 1.6],\n",
              "       [6.1, 2.8, 4.7, 1.2],\n",
              "       [4.6, 3.2, 1.4, 0.2],\n",
              "       [5.4, 3.9, 1.3, 0.4],\n",
              "       [7.1, 3. , 5.9, 2.1],\n",
              "       [4.4, 3.2, 1.3, 0.2],\n",
              "       [5.2, 2.7, 3.9, 1.4],\n",
              "       [5.5, 2.5, 4. , 1.3],\n",
              "       [5.1, 3.3, 1.7, 0.5],\n",
              "       [5.6, 2.5, 3.9, 1.1],\n",
              "       [6.7, 3.1, 4.7, 1.5],\n",
              "       [5.8, 2.8, 5.1, 2.4],\n",
              "       [7. , 3.2, 4.7, 1.4],\n",
              "       [7.7, 3.8, 6.7, 2.2],\n",
              "       [6.3, 2.5, 5. , 1.9],\n",
              "       [5.5, 3.5, 1.3, 0.2],\n",
              "       [5.5, 2.6, 4.4, 1.2],\n",
              "       [5.7, 2.8, 4.1, 1.3],\n",
              "       [5.6, 3. , 4.5, 1.5],\n",
              "       [6.7, 3. , 5. , 1.7],\n",
              "       [5.5, 2.4, 3.8, 1.1],\n",
              "       [6.3, 3.3, 4.7, 1.6],\n",
              "       [5.4, 3.9, 1.7, 0.4],\n",
              "       [6.3, 2.8, 5.1, 1.5],\n",
              "       [5.1, 2.5, 3. , 1.1],\n",
              "       [6.9, 3.1, 4.9, 1.5],\n",
              "       [4.4, 3. , 1.3, 0.2],\n",
              "       [5.5, 2.4, 3.7, 1. ],\n",
              "       [4.9, 3.1, 1.5, 0.1],\n",
              "       [6.3, 2.7, 4.9, 1.8],\n",
              "       [5. , 3.4, 1.5, 0.2],\n",
              "       [5.1, 3.8, 1.6, 0.2],\n",
              "       [6.4, 2.9, 4.3, 1.3],\n",
              "       [6.2, 3.4, 5.4, 2.3],\n",
              "       [6.3, 2.3, 4.4, 1.3],\n",
              "       [7.9, 3.8, 6.4, 2. ],\n",
              "       [7.7, 3. , 6.1, 2.3],\n",
              "       [5. , 2.3, 3.3, 1. ],\n",
              "       [4.4, 2.9, 1.4, 0.2],\n",
              "       [4.3, 3. , 1.1, 0.1],\n",
              "       [6.5, 3. , 5.5, 1.8],\n",
              "       [7.7, 2.8, 6.7, 2. ],\n",
              "       [4.6, 3.1, 1.5, 0.2],\n",
              "       [5.7, 3.8, 1.7, 0.3],\n",
              "       [4.5, 2.3, 1.3, 0.3],\n",
              "       [6.8, 2.8, 4.8, 1.4],\n",
              "       [6.4, 2.8, 5.6, 2.1],\n",
              "       [4.6, 3.4, 1.4, 0.3],\n",
              "       [7.2, 3.6, 6.1, 2.5],\n",
              "       [6.5, 3. , 5.8, 2.2],\n",
              "       [4.7, 3.2, 1.3, 0.2],\n",
              "       [7.4, 2.8, 6.1, 1.9],\n",
              "       [4.9, 2.4, 3.3, 1. ],\n",
              "       [5.5, 2.3, 4. , 1.3],\n",
              "       [6.8, 3. , 5.5, 2.1],\n",
              "       [5. , 3.3, 1.4, 0.2],\n",
              "       [5.7, 2.5, 5. , 2. ],\n",
              "       [6.7, 3.1, 4.4, 1.4],\n",
              "       [6.5, 3. , 5.2, 2. ],\n",
              "       [6. , 2.7, 5.1, 1.6],\n",
              "       [7.2, 3. , 5.8, 1.6],\n",
              "       [5.7, 3. , 4.2, 1.2],\n",
              "       [5.1, 3.8, 1.9, 0.4],\n",
              "       [6. , 2.2, 4. , 1. ],\n",
              "       [5.6, 2.7, 4.2, 1.3],\n",
              "       [6.4, 3.2, 4.5, 1.5],\n",
              "       [5.8, 2.6, 4. , 1.2],\n",
              "       [6.4, 2.7, 5.3, 1.9],\n",
              "       [4.6, 3.6, 1. , 0.2],\n",
              "       [5.9, 3. , 4.2, 1.5],\n",
              "       [5.7, 2.6, 3.5, 1. ],\n",
              "       [5. , 3.2, 1.2, 0.2],\n",
              "       [6.7, 3.3, 5.7, 2.5],\n",
              "       [6.1, 2.9, 4.7, 1.4],\n",
              "       [5.8, 2.7, 4.1, 1. ],\n",
              "       [6.3, 3.4, 5.6, 2.4],\n",
              "       [5. , 3.5, 1.3, 0.3],\n",
              "       [6.7, 3.1, 5.6, 2.4],\n",
              "       [4.9, 3. , 1.4, 0.2],\n",
              "       [5.7, 2.8, 4.5, 1.3],\n",
              "       [6.1, 2.6, 5.6, 1.4],\n",
              "       [7.3, 2.9, 6.3, 1.8],\n",
              "       [6.3, 2.9, 5.6, 1.8],\n",
              "       [6.9, 3.2, 5.7, 2.3],\n",
              "       [6.1, 3. , 4.6, 1.4],\n",
              "       [6. , 2.9, 4.5, 1.5],\n",
              "       [7.2, 3.2, 6. , 1.8],\n",
              "       [5.9, 3. , 5.1, 1.8],\n",
              "       [5.1, 3.7, 1.5, 0.4],\n",
              "       [6.6, 3. , 4.4, 1.4],\n",
              "       [6.5, 3.2, 5.1, 2. ],\n",
              "       [5.8, 4. , 1.2, 0.2],\n",
              "       [5.7, 2.9, 4.2, 1.3],\n",
              "       [4.9, 2.5, 4.5, 1.7]])"
            ]
          },
          "metadata": {},
          "execution_count": 26
        }
      ]
    },
    {
      "cell_type": "code",
      "source": [
        "x_test"
      ],
      "metadata": {
        "colab": {
          "base_uri": "https://localhost:8080/"
        },
        "id": "B-k72qKb1V_Q",
        "outputId": "9e44b950-cb49-4f36-b982-67732494edf3"
      },
      "execution_count": null,
      "outputs": [
        {
          "output_type": "execute_result",
          "data": {
            "text/plain": [
              "array([[5.3, 3.7, 1.5, 0.2],\n",
              "       [5.8, 2.7, 5.1, 1.9],\n",
              "       [5.2, 3.4, 1.4, 0.2],\n",
              "       [5.4, 3.4, 1.7, 0.2],\n",
              "       [4.8, 3. , 1.4, 0.3],\n",
              "       [6.7, 3.3, 5.7, 2.1],\n",
              "       [4.8, 3.1, 1.6, 0.2],\n",
              "       [5.4, 3. , 4.5, 1.5],\n",
              "       [5.9, 3.2, 4.8, 1.8],\n",
              "       [5.1, 3.8, 1.5, 0.3],\n",
              "       [4.8, 3. , 1.4, 0.1],\n",
              "       [6. , 2.2, 5. , 1.5],\n",
              "       [6.7, 3. , 5.2, 2.3],\n",
              "       [5.8, 2.7, 3.9, 1.2],\n",
              "       [6.9, 3.1, 5.1, 2.3],\n",
              "       [5.1, 3.4, 1.5, 0.2],\n",
              "       [5.6, 2.9, 3.6, 1.3],\n",
              "       [6.8, 3.2, 5.9, 2.3],\n",
              "       [5.4, 3.4, 1.5, 0.4],\n",
              "       [6.6, 2.9, 4.6, 1.3],\n",
              "       [6.3, 3.3, 6. , 2.5],\n",
              "       [6.2, 2.8, 4.8, 1.8],\n",
              "       [4.8, 3.4, 1.6, 0.2],\n",
              "       [6.1, 2.8, 4. , 1.3],\n",
              "       [4.9, 3.1, 1.5, 0.1],\n",
              "       [6.2, 2.9, 4.3, 1.3],\n",
              "       [6.2, 2.2, 4.5, 1.5],\n",
              "       [7.6, 3. , 6.6, 2.1],\n",
              "       [7.7, 2.6, 6.9, 2.3],\n",
              "       [4.9, 3.1, 1.5, 0.1],\n",
              "       [5. , 3.6, 1.4, 0.2],\n",
              "       [5.2, 3.5, 1.5, 0.2],\n",
              "       [6.1, 3. , 4.9, 1.8],\n",
              "       [6.4, 2.8, 5.6, 2.2],\n",
              "       [5.1, 3.5, 1.4, 0.3],\n",
              "       [5.4, 3.7, 1.5, 0.2],\n",
              "       [5.8, 2.7, 5.1, 1.9],\n",
              "       [5.6, 3. , 4.1, 1.3],\n",
              "       [6.3, 2.5, 4.9, 1.5],\n",
              "       [6.5, 2.8, 4.6, 1.5],\n",
              "       [6.9, 3.1, 5.4, 2.1],\n",
              "       [6. , 3. , 4.8, 1.8],\n",
              "       [6.4, 3.2, 5.3, 2.3],\n",
              "       [5.1, 3.5, 1.4, 0.2]])"
            ]
          },
          "metadata": {},
          "execution_count": 27
        }
      ]
    },
    {
      "cell_type": "code",
      "source": [
        "y_train"
      ],
      "metadata": {
        "colab": {
          "base_uri": "https://localhost:8080/"
        },
        "id": "BqURhUj31ZaA",
        "outputId": "ec6e89ef-1cc9-42f9-a23a-5c8786aec4ea"
      },
      "execution_count": null,
      "outputs": [
        {
          "output_type": "execute_result",
          "data": {
            "text/plain": [
              "array(['Iris-virginica', 'Iris-virginica', 'Iris-setosa', 'Iris-setosa',\n",
              "       'Iris-virginica', 'Iris-setosa', 'Iris-setosa', 'Iris-setosa',\n",
              "       'Iris-versicolor', 'Iris-versicolor', 'Iris-setosa', 'Iris-setosa',\n",
              "       'Iris-virginica', 'Iris-setosa', 'Iris-versicolor',\n",
              "       'Iris-versicolor', 'Iris-setosa', 'Iris-versicolor',\n",
              "       'Iris-versicolor', 'Iris-virginica', 'Iris-versicolor',\n",
              "       'Iris-virginica', 'Iris-virginica', 'Iris-setosa',\n",
              "       'Iris-versicolor', 'Iris-versicolor', 'Iris-versicolor',\n",
              "       'Iris-versicolor', 'Iris-versicolor', 'Iris-versicolor',\n",
              "       'Iris-setosa', 'Iris-virginica', 'Iris-versicolor',\n",
              "       'Iris-versicolor', 'Iris-setosa', 'Iris-versicolor', 'Iris-setosa',\n",
              "       'Iris-virginica', 'Iris-setosa', 'Iris-setosa', 'Iris-versicolor',\n",
              "       'Iris-virginica', 'Iris-versicolor', 'Iris-virginica',\n",
              "       'Iris-virginica', 'Iris-versicolor', 'Iris-setosa', 'Iris-setosa',\n",
              "       'Iris-virginica', 'Iris-virginica', 'Iris-setosa', 'Iris-setosa',\n",
              "       'Iris-setosa', 'Iris-versicolor', 'Iris-virginica', 'Iris-setosa',\n",
              "       'Iris-virginica', 'Iris-virginica', 'Iris-setosa',\n",
              "       'Iris-virginica', 'Iris-versicolor', 'Iris-versicolor',\n",
              "       'Iris-virginica', 'Iris-setosa', 'Iris-virginica',\n",
              "       'Iris-versicolor', 'Iris-virginica', 'Iris-versicolor',\n",
              "       'Iris-virginica', 'Iris-versicolor', 'Iris-setosa',\n",
              "       'Iris-versicolor', 'Iris-versicolor', 'Iris-versicolor',\n",
              "       'Iris-versicolor', 'Iris-virginica', 'Iris-setosa',\n",
              "       'Iris-versicolor', 'Iris-versicolor', 'Iris-setosa',\n",
              "       'Iris-virginica', 'Iris-versicolor', 'Iris-versicolor',\n",
              "       'Iris-virginica', 'Iris-setosa', 'Iris-virginica', 'Iris-setosa',\n",
              "       'Iris-versicolor', 'Iris-virginica', 'Iris-virginica',\n",
              "       'Iris-virginica', 'Iris-virginica', 'Iris-versicolor',\n",
              "       'Iris-versicolor', 'Iris-virginica', 'Iris-virginica',\n",
              "       'Iris-setosa', 'Iris-versicolor', 'Iris-virginica', 'Iris-setosa',\n",
              "       'Iris-versicolor', 'Iris-virginica'], dtype=object)"
            ]
          },
          "metadata": {},
          "execution_count": 28
        }
      ]
    },
    {
      "cell_type": "code",
      "source": [
        "y_test"
      ],
      "metadata": {
        "colab": {
          "base_uri": "https://localhost:8080/"
        },
        "id": "CYCkId7r1ci-",
        "outputId": "38f660e7-9d30-4b8c-cd9a-c17d40887454"
      },
      "execution_count": null,
      "outputs": [
        {
          "output_type": "execute_result",
          "data": {
            "text/plain": [
              "array(['Iris-setosa', 'Iris-virginica', 'Iris-setosa', 'Iris-setosa',\n",
              "       'Iris-setosa', 'Iris-virginica', 'Iris-setosa', 'Iris-versicolor',\n",
              "       'Iris-versicolor', 'Iris-setosa', 'Iris-setosa', 'Iris-virginica',\n",
              "       'Iris-virginica', 'Iris-versicolor', 'Iris-virginica',\n",
              "       'Iris-setosa', 'Iris-versicolor', 'Iris-virginica', 'Iris-setosa',\n",
              "       'Iris-versicolor', 'Iris-virginica', 'Iris-virginica',\n",
              "       'Iris-setosa', 'Iris-versicolor', 'Iris-setosa', 'Iris-versicolor',\n",
              "       'Iris-versicolor', 'Iris-virginica', 'Iris-virginica',\n",
              "       'Iris-setosa', 'Iris-setosa', 'Iris-setosa', 'Iris-virginica',\n",
              "       'Iris-virginica', 'Iris-setosa', 'Iris-setosa', 'Iris-virginica',\n",
              "       'Iris-versicolor', 'Iris-versicolor', 'Iris-versicolor',\n",
              "       'Iris-virginica', 'Iris-virginica', 'Iris-virginica',\n",
              "       'Iris-setosa'], dtype=object)"
            ]
          },
          "metadata": {},
          "execution_count": 29
        }
      ]
    },
    {
      "cell_type": "markdown",
      "source": [
        "**Scaling / Normalization**"
      ],
      "metadata": {
        "id": "jr_JmiEd08em"
      }
    },
    {
      "cell_type": "code",
      "source": [
        "# Here we use MinMaxScalar normalization technique.\n",
        "from sklearn.preprocessing import MinMaxScaler\n",
        "scaler=MinMaxScaler()\n",
        "scaler.fit(x_train,x_test)\n",
        "x_train=scaler.transform(x_train)\n",
        "x_test=scaler.transform(x_test)"
      ],
      "metadata": {
        "id": "Ou2T2FEJNnTJ"
      },
      "execution_count": null,
      "outputs": []
    },
    {
      "cell_type": "code",
      "source": [
        "x_train"
      ],
      "metadata": {
        "colab": {
          "base_uri": "https://localhost:8080/"
        },
        "id": "AEHA_B8j1gLW",
        "outputId": "3e621a07-c310-4529-de95-c47c4d5b40c1"
      },
      "execution_count": null,
      "outputs": [
        {
          "output_type": "execute_result",
          "data": {
            "text/plain": [
              "array([[0.36111111, 0.33333333, 0.68421053, 0.79166667],\n",
              "       [0.58333333, 0.5       , 0.78947368, 0.70833333],\n",
              "       [0.11111111, 0.55555556, 0.10526316, 0.04166667],\n",
              "       [0.19444444, 0.72222222, 0.10526316, 0.20833333],\n",
              "       [0.66666667, 0.16666667, 0.84210526, 0.70833333],\n",
              "       [0.19444444, 0.44444444, 0.10526316, 0.04166667],\n",
              "       [0.19444444, 0.66666667, 0.10526316, 0.125     ],\n",
              "       [0.13888889, 0.66666667, 0.15789474, 0.04166667],\n",
              "       [0.47222222, 0.66666667, 0.61403509, 0.625     ],\n",
              "       [0.5       , 0.33333333, 0.64912281, 0.45833333],\n",
              "       [0.08333333, 0.55555556, 0.07017544, 0.04166667],\n",
              "       [0.30555556, 0.94444444, 0.05263158, 0.125     ],\n",
              "       [0.77777778, 0.44444444, 0.85964912, 0.83333333],\n",
              "       [0.02777778, 0.55555556, 0.05263158, 0.04166667],\n",
              "       [0.25      , 0.27777778, 0.50877193, 0.54166667],\n",
              "       [0.33333333, 0.16666667, 0.52631579, 0.5       ],\n",
              "       [0.22222222, 0.61111111, 0.12280702, 0.16666667],\n",
              "       [0.36111111, 0.16666667, 0.50877193, 0.41666667],\n",
              "       [0.66666667, 0.5       , 0.64912281, 0.58333333],\n",
              "       [0.41666667, 0.33333333, 0.71929825, 0.95833333],\n",
              "       [0.75      , 0.55555556, 0.64912281, 0.54166667],\n",
              "       [0.94444444, 0.88888889, 1.        , 0.875     ],\n",
              "       [0.55555556, 0.16666667, 0.70175439, 0.75      ],\n",
              "       [0.33333333, 0.72222222, 0.05263158, 0.04166667],\n",
              "       [0.33333333, 0.22222222, 0.59649123, 0.45833333],\n",
              "       [0.38888889, 0.33333333, 0.54385965, 0.5       ],\n",
              "       [0.36111111, 0.44444444, 0.61403509, 0.58333333],\n",
              "       [0.66666667, 0.44444444, 0.70175439, 0.66666667],\n",
              "       [0.33333333, 0.11111111, 0.49122807, 0.41666667],\n",
              "       [0.55555556, 0.61111111, 0.64912281, 0.625     ],\n",
              "       [0.30555556, 0.94444444, 0.12280702, 0.125     ],\n",
              "       [0.55555556, 0.33333333, 0.71929825, 0.58333333],\n",
              "       [0.22222222, 0.16666667, 0.35087719, 0.41666667],\n",
              "       [0.72222222, 0.5       , 0.68421053, 0.58333333],\n",
              "       [0.02777778, 0.44444444, 0.05263158, 0.04166667],\n",
              "       [0.33333333, 0.11111111, 0.47368421, 0.375     ],\n",
              "       [0.16666667, 0.5       , 0.0877193 , 0.        ],\n",
              "       [0.55555556, 0.27777778, 0.68421053, 0.70833333],\n",
              "       [0.19444444, 0.66666667, 0.0877193 , 0.04166667],\n",
              "       [0.22222222, 0.88888889, 0.10526316, 0.04166667],\n",
              "       [0.58333333, 0.38888889, 0.57894737, 0.5       ],\n",
              "       [0.52777778, 0.66666667, 0.77192982, 0.91666667],\n",
              "       [0.55555556, 0.05555556, 0.59649123, 0.5       ],\n",
              "       [1.        , 0.88888889, 0.94736842, 0.79166667],\n",
              "       [0.94444444, 0.44444444, 0.89473684, 0.91666667],\n",
              "       [0.19444444, 0.05555556, 0.40350877, 0.375     ],\n",
              "       [0.02777778, 0.38888889, 0.07017544, 0.04166667],\n",
              "       [0.        , 0.44444444, 0.01754386, 0.        ],\n",
              "       [0.61111111, 0.44444444, 0.78947368, 0.70833333],\n",
              "       [0.94444444, 0.33333333, 1.        , 0.79166667],\n",
              "       [0.08333333, 0.5       , 0.0877193 , 0.04166667],\n",
              "       [0.38888889, 0.88888889, 0.12280702, 0.08333333],\n",
              "       [0.05555556, 0.05555556, 0.05263158, 0.08333333],\n",
              "       [0.69444444, 0.33333333, 0.66666667, 0.54166667],\n",
              "       [0.58333333, 0.33333333, 0.80701754, 0.83333333],\n",
              "       [0.08333333, 0.66666667, 0.07017544, 0.08333333],\n",
              "       [0.80555556, 0.77777778, 0.89473684, 1.        ],\n",
              "       [0.61111111, 0.44444444, 0.84210526, 0.875     ],\n",
              "       [0.11111111, 0.55555556, 0.05263158, 0.04166667],\n",
              "       [0.86111111, 0.33333333, 0.89473684, 0.75      ],\n",
              "       [0.16666667, 0.11111111, 0.40350877, 0.375     ],\n",
              "       [0.33333333, 0.05555556, 0.52631579, 0.5       ],\n",
              "       [0.69444444, 0.44444444, 0.78947368, 0.83333333],\n",
              "       [0.19444444, 0.61111111, 0.07017544, 0.04166667],\n",
              "       [0.38888889, 0.16666667, 0.70175439, 0.79166667],\n",
              "       [0.66666667, 0.5       , 0.59649123, 0.54166667],\n",
              "       [0.61111111, 0.44444444, 0.73684211, 0.79166667],\n",
              "       [0.47222222, 0.27777778, 0.71929825, 0.625     ],\n",
              "       [0.80555556, 0.44444444, 0.84210526, 0.625     ],\n",
              "       [0.38888889, 0.44444444, 0.56140351, 0.45833333],\n",
              "       [0.22222222, 0.88888889, 0.15789474, 0.125     ],\n",
              "       [0.47222222, 0.        , 0.52631579, 0.375     ],\n",
              "       [0.36111111, 0.27777778, 0.56140351, 0.5       ],\n",
              "       [0.58333333, 0.55555556, 0.61403509, 0.58333333],\n",
              "       [0.41666667, 0.22222222, 0.52631579, 0.45833333],\n",
              "       [0.58333333, 0.27777778, 0.75438596, 0.75      ],\n",
              "       [0.08333333, 0.77777778, 0.        , 0.04166667],\n",
              "       [0.44444444, 0.44444444, 0.56140351, 0.58333333],\n",
              "       [0.38888889, 0.22222222, 0.43859649, 0.375     ],\n",
              "       [0.19444444, 0.55555556, 0.03508772, 0.04166667],\n",
              "       [0.66666667, 0.61111111, 0.8245614 , 1.        ],\n",
              "       [0.5       , 0.38888889, 0.64912281, 0.54166667],\n",
              "       [0.41666667, 0.27777778, 0.54385965, 0.375     ],\n",
              "       [0.55555556, 0.66666667, 0.80701754, 0.95833333],\n",
              "       [0.19444444, 0.72222222, 0.05263158, 0.08333333],\n",
              "       [0.66666667, 0.5       , 0.80701754, 0.95833333],\n",
              "       [0.16666667, 0.44444444, 0.07017544, 0.04166667],\n",
              "       [0.38888889, 0.33333333, 0.61403509, 0.5       ],\n",
              "       [0.5       , 0.22222222, 0.80701754, 0.54166667],\n",
              "       [0.83333333, 0.38888889, 0.92982456, 0.70833333],\n",
              "       [0.55555556, 0.38888889, 0.80701754, 0.70833333],\n",
              "       [0.72222222, 0.55555556, 0.8245614 , 0.91666667],\n",
              "       [0.5       , 0.44444444, 0.63157895, 0.54166667],\n",
              "       [0.47222222, 0.38888889, 0.61403509, 0.58333333],\n",
              "       [0.80555556, 0.55555556, 0.87719298, 0.70833333],\n",
              "       [0.44444444, 0.44444444, 0.71929825, 0.70833333],\n",
              "       [0.22222222, 0.83333333, 0.0877193 , 0.125     ],\n",
              "       [0.63888889, 0.44444444, 0.59649123, 0.54166667],\n",
              "       [0.61111111, 0.55555556, 0.71929825, 0.79166667],\n",
              "       [0.41666667, 1.        , 0.03508772, 0.04166667],\n",
              "       [0.38888889, 0.38888889, 0.56140351, 0.5       ],\n",
              "       [0.16666667, 0.16666667, 0.61403509, 0.66666667]])"
            ]
          },
          "metadata": {},
          "execution_count": 31
        }
      ]
    },
    {
      "cell_type": "code",
      "source": [
        "x_test"
      ],
      "metadata": {
        "colab": {
          "base_uri": "https://localhost:8080/"
        },
        "id": "EybROghi1jum",
        "outputId": "53c695b1-672b-4067-87db-e9b78b966363"
      },
      "execution_count": null,
      "outputs": [
        {
          "output_type": "execute_result",
          "data": {
            "text/plain": [
              "array([[0.27777778, 0.83333333, 0.0877193 , 0.04166667],\n",
              "       [0.41666667, 0.27777778, 0.71929825, 0.75      ],\n",
              "       [0.25      , 0.66666667, 0.07017544, 0.04166667],\n",
              "       [0.30555556, 0.66666667, 0.12280702, 0.04166667],\n",
              "       [0.13888889, 0.44444444, 0.07017544, 0.08333333],\n",
              "       [0.66666667, 0.61111111, 0.8245614 , 0.83333333],\n",
              "       [0.13888889, 0.5       , 0.10526316, 0.04166667],\n",
              "       [0.30555556, 0.44444444, 0.61403509, 0.58333333],\n",
              "       [0.44444444, 0.55555556, 0.66666667, 0.70833333],\n",
              "       [0.22222222, 0.88888889, 0.0877193 , 0.08333333],\n",
              "       [0.13888889, 0.44444444, 0.07017544, 0.        ],\n",
              "       [0.47222222, 0.        , 0.70175439, 0.58333333],\n",
              "       [0.66666667, 0.44444444, 0.73684211, 0.91666667],\n",
              "       [0.41666667, 0.27777778, 0.50877193, 0.45833333],\n",
              "       [0.72222222, 0.5       , 0.71929825, 0.91666667],\n",
              "       [0.22222222, 0.66666667, 0.0877193 , 0.04166667],\n",
              "       [0.36111111, 0.38888889, 0.45614035, 0.5       ],\n",
              "       [0.69444444, 0.55555556, 0.85964912, 0.91666667],\n",
              "       [0.30555556, 0.66666667, 0.0877193 , 0.125     ],\n",
              "       [0.63888889, 0.38888889, 0.63157895, 0.5       ],\n",
              "       [0.55555556, 0.61111111, 0.87719298, 1.        ],\n",
              "       [0.52777778, 0.33333333, 0.66666667, 0.70833333],\n",
              "       [0.13888889, 0.66666667, 0.10526316, 0.04166667],\n",
              "       [0.5       , 0.33333333, 0.52631579, 0.5       ],\n",
              "       [0.16666667, 0.5       , 0.0877193 , 0.        ],\n",
              "       [0.52777778, 0.38888889, 0.57894737, 0.5       ],\n",
              "       [0.52777778, 0.        , 0.61403509, 0.58333333],\n",
              "       [0.91666667, 0.44444444, 0.98245614, 0.83333333],\n",
              "       [0.94444444, 0.22222222, 1.03508772, 0.91666667],\n",
              "       [0.16666667, 0.5       , 0.0877193 , 0.        ],\n",
              "       [0.19444444, 0.77777778, 0.07017544, 0.04166667],\n",
              "       [0.25      , 0.72222222, 0.0877193 , 0.04166667],\n",
              "       [0.5       , 0.44444444, 0.68421053, 0.70833333],\n",
              "       [0.58333333, 0.33333333, 0.80701754, 0.875     ],\n",
              "       [0.22222222, 0.72222222, 0.07017544, 0.08333333],\n",
              "       [0.30555556, 0.83333333, 0.0877193 , 0.04166667],\n",
              "       [0.41666667, 0.27777778, 0.71929825, 0.75      ],\n",
              "       [0.36111111, 0.44444444, 0.54385965, 0.5       ],\n",
              "       [0.55555556, 0.16666667, 0.68421053, 0.58333333],\n",
              "       [0.61111111, 0.33333333, 0.63157895, 0.58333333],\n",
              "       [0.72222222, 0.5       , 0.77192982, 0.83333333],\n",
              "       [0.47222222, 0.44444444, 0.66666667, 0.70833333],\n",
              "       [0.58333333, 0.55555556, 0.75438596, 0.91666667],\n",
              "       [0.22222222, 0.72222222, 0.07017544, 0.04166667]])"
            ]
          },
          "metadata": {},
          "execution_count": 32
        }
      ]
    },
    {
      "cell_type": "markdown",
      "source": [
        "**MODEL CREATION**\n",
        "  \n",
        "  In Classification model we have  different algorithms for model creation.\n",
        "\n",
        "  1. Support Vector Machine(SVM Algorithm)\n",
        "  2. Random Forest Algorithm."
      ],
      "metadata": {
        "id": "85Wd94oK0xnE"
      }
    },
    {
      "cell_type": "code",
      "source": [
        "from sklearn.svm import SVC\n",
        "from sklearn.ensemble import RandomForestClassifier\n",
        "model=SVC()\n",
        "rf=RandomForestClassifier(n_estimators=100)"
      ],
      "metadata": {
        "id": "IGbraMrc1CpB"
      },
      "execution_count": null,
      "outputs": []
    },
    {
      "cell_type": "markdown",
      "source": [
        "**PERFORMANCE MEASURMENTS**\n",
        "\n",
        "Matrics used :\n",
        "\n",
        "Confusion matrics\n",
        "\n",
        " Accuracy score\n",
        "\n",
        "Classification report\n",
        "\n",
        " Confusion matrics display"
      ],
      "metadata": {
        "id": "H0u4fglv4g4y"
      }
    },
    {
      "cell_type": "code",
      "source": [
        "#svm\n",
        "model.fit(x_train,y_train)\n",
        "y_pred=model.predict(x_test)\n",
        "y_pred"
      ],
      "metadata": {
        "colab": {
          "base_uri": "https://localhost:8080/"
        },
        "id": "NaJJjn0CN970",
        "outputId": "a15a7b71-7052-4f77-d95e-9d0f19977d22"
      },
      "execution_count": null,
      "outputs": [
        {
          "output_type": "execute_result",
          "data": {
            "text/plain": [
              "array(['Iris-setosa', 'Iris-virginica', 'Iris-setosa', 'Iris-setosa',\n",
              "       'Iris-setosa', 'Iris-virginica', 'Iris-setosa', 'Iris-versicolor',\n",
              "       'Iris-versicolor', 'Iris-setosa', 'Iris-setosa', 'Iris-virginica',\n",
              "       'Iris-virginica', 'Iris-versicolor', 'Iris-virginica',\n",
              "       'Iris-setosa', 'Iris-versicolor', 'Iris-virginica', 'Iris-setosa',\n",
              "       'Iris-versicolor', 'Iris-virginica', 'Iris-virginica',\n",
              "       'Iris-setosa', 'Iris-versicolor', 'Iris-setosa', 'Iris-versicolor',\n",
              "       'Iris-versicolor', 'Iris-virginica', 'Iris-virginica',\n",
              "       'Iris-setosa', 'Iris-setosa', 'Iris-setosa', 'Iris-virginica',\n",
              "       'Iris-virginica', 'Iris-setosa', 'Iris-setosa', 'Iris-virginica',\n",
              "       'Iris-versicolor', 'Iris-versicolor', 'Iris-versicolor',\n",
              "       'Iris-virginica', 'Iris-virginica', 'Iris-virginica',\n",
              "       'Iris-setosa'], dtype=object)"
            ]
          },
          "metadata": {},
          "execution_count": 38
        }
      ]
    },
    {
      "cell_type": "code",
      "source": [
        "\n",
        "from sklearn.metrics import confusion_matrix,accuracy_score,classification_report,ConfusionMatrixDisplay\n",
        "result=confusion_matrix(y_test,y_pred)\n",
        "print('Confusion Matrics :',result)\n",
        "print(\"*\"*50)\n",
        "print(\"Accuracy Score :\",accuracy_score(y_test,y_pred))\n",
        "print(\"*\"*50)\n",
        "print('Classification Report :',classification_report(y_test,y_pred))\n",
        "print(\"*\"*50)\n",
        "labels=['Iris-setosa','Iris-versicolor','Iris-virginica']\n",
        "cmd=ConfusionMatrixDisplay(result,display_labels=labels)\n",
        "cmd.plot()"
      ],
      "metadata": {
        "colab": {
          "base_uri": "https://localhost:8080/",
          "height": 761
        },
        "id": "N1zr3h87OQEw",
        "outputId": "ab3369bc-bb8b-4184-fe10-ff7cc7fd0c1a"
      },
      "execution_count": null,
      "outputs": [
        {
          "output_type": "stream",
          "name": "stdout",
          "text": [
            "Confusion Matrics : [[17  0  0]\n",
            " [ 0 11  0]\n",
            " [ 0  0 16]]\n",
            "**************************************************\n",
            "Accuracy Score : 1.0\n",
            "**************************************************\n",
            "Classification Report :                  precision    recall  f1-score   support\n",
            "\n",
            "    Iris-setosa       1.00      1.00      1.00        17\n",
            "Iris-versicolor       1.00      1.00      1.00        11\n",
            " Iris-virginica       1.00      1.00      1.00        16\n",
            "\n",
            "       accuracy                           1.00        44\n",
            "      macro avg       1.00      1.00      1.00        44\n",
            "   weighted avg       1.00      1.00      1.00        44\n",
            "\n",
            "**************************************************\n"
          ]
        },
        {
          "output_type": "execute_result",
          "data": {
            "text/plain": [
              "<sklearn.metrics._plot.confusion_matrix.ConfusionMatrixDisplay at 0x7b63c19978e0>"
            ]
          },
          "metadata": {},
          "execution_count": 39
        },
        {
          "output_type": "display_data",
          "data": {
            "text/plain": [
              "<Figure size 640x480 with 2 Axes>"
            ],
            "image/png": "[encoded data removed]"
          },
          "metadata": {}
        }
      ]
    },
    {
      "cell_type": "code",
      "source": [
        "#random forest\n",
        "rf.fit(x_train,y_train)\n",
        "y_pred=model.predict(x_test)\n",
        "y_pred"
      ],
      "metadata": {
        "colab": {
          "base_uri": "https://localhost:8080/",
          "height": 0
        },
        "id": "qKm0qywpCG9c",
        "outputId": "feb0360f-16b6-4d25-e952-847cb1b28db5"
      },
      "execution_count": 44,
      "outputs": [
        {
          "output_type": "execute_result",
          "data": {
            "text/plain": [
              "array(['Iris-setosa', 'Iris-virginica', 'Iris-setosa', 'Iris-setosa',\n",
              "       'Iris-setosa', 'Iris-virginica', 'Iris-setosa', 'Iris-versicolor',\n",
              "       'Iris-versicolor', 'Iris-setosa', 'Iris-setosa', 'Iris-virginica',\n",
              "       'Iris-virginica', 'Iris-versicolor', 'Iris-virginica',\n",
              "       'Iris-setosa', 'Iris-versicolor', 'Iris-virginica', 'Iris-setosa',\n",
              "       'Iris-versicolor', 'Iris-virginica', 'Iris-virginica',\n",
              "       'Iris-setosa', 'Iris-versicolor', 'Iris-setosa', 'Iris-versicolor',\n",
              "       'Iris-versicolor', 'Iris-virginica', 'Iris-virginica',\n",
              "       'Iris-setosa', 'Iris-setosa', 'Iris-setosa', 'Iris-virginica',\n",
              "       'Iris-virginica', 'Iris-setosa', 'Iris-setosa', 'Iris-virginica',\n",
              "       'Iris-versicolor', 'Iris-versicolor', 'Iris-versicolor',\n",
              "       'Iris-virginica', 'Iris-virginica', 'Iris-virginica',\n",
              "       'Iris-setosa'], dtype=object)"
            ]
          },
          "metadata": {},
          "execution_count": 44
        }
      ]
    },
    {
      "cell_type": "code",
      "source": [
        "from sklearn.metrics import confusion_matrix,accuracy_score,classification_report,ConfusionMatrixDisplay\n",
        "result=confusion_matrix(y_test,y_pred)\n",
        "print('Confusion Matrics :',result)\n",
        "print(\"*\"*50)\n",
        "print(\"Accuracy Score :\",accuracy_score(y_test,y_pred))\n",
        "print(\"*\"*50)\n",
        "print('Classification Report :',classification_report(y_test,y_pred))\n",
        "print(\"*\"*50)\n",
        "labels=['Iris-setosa','Iris-versicolor','Iris-virginica']\n",
        "cmd=ConfusionMatrixDisplay(result,display_labels=labels)\n",
        "cmd.plot()"
      ],
      "metadata": {
        "colab": {
          "base_uri": "https://localhost:8080/",
          "height": 761
        },
        "id": "wblJTFxBCPXm",
        "outputId": "8f30cdae-e28e-43f6-f6fc-fef44f51d4f0"
      },
      "execution_count": 45,
      "outputs": [
        {
          "output_type": "stream",
          "name": "stdout",
          "text": [
            "Confusion Matrics : [[17  0  0]\n",
            " [ 0 11  0]\n",
            " [ 0  0 16]]\n",
            "**************************************************\n",
            "Accuracy Score : 1.0\n",
            "**************************************************\n",
            "Classification Report :                  precision    recall  f1-score   support\n",
            "\n",
            "    Iris-setosa       1.00      1.00      1.00        17\n",
            "Iris-versicolor       1.00      1.00      1.00        11\n",
            " Iris-virginica       1.00      1.00      1.00        16\n",
            "\n",
            "       accuracy                           1.00        44\n",
            "      macro avg       1.00      1.00      1.00        44\n",
            "   weighted avg       1.00      1.00      1.00        44\n",
            "\n",
            "**************************************************\n"
          ]
        },
        {
          "output_type": "execute_result",
          "data": {
            "text/plain": [
              "<sklearn.metrics._plot.confusion_matrix.ConfusionMatrixDisplay at 0x7b63c191fe20>"
            ]
          },
          "metadata": {},
          "execution_count": 45
        },
        {
          "output_type": "display_data",
          "data": {
            "text/plain": [
              "<Figure size 640x480 with 2 Axes>"
            ],
            "image/png": "[encoded data removed]"
          },
          "metadata": {}
        }
      ]
    },
    {
      "cell_type": "code",
      "source": [
        "print(rf.predict([[5.9,3.0,5.1,1.8]]))"
      ],
      "metadata": {
        "colab": {
          "base_uri": "https://localhost:8080/",
          "height": 0
        },
        "id": "fmWPbY5LDnfX",
        "outputId": "c34f8bbd-3615-4b19-f8cc-b95a44409b63"
      },
      "execution_count": 46,
      "outputs": [
        {
          "output_type": "stream",
          "name": "stdout",
          "text": [
            "['Iris-virginica']\n"
          ]
        }
      ]
    },
    {
      "cell_type": "markdown",
      "source": [
        "In conclusion, both 2 models Random Forest and SVM give 100% of accuracy. Both of these models are best fit for iris dataset."
      ],
      "metadata": {
        "id": "lzDwv4ct-VGO"
      }
    }
  ]
}